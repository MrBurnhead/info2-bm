{
 "cells": [
  {
   "cell_type": "markdown",
   "metadata": {},
   "source": [
    "# General\n",
    "\n",
    "Richard Pöttler (richard.poettler@student.tugraz.at)\n",
    "\n",
    "## General Informationen\n",
    "\n",
    "https://palme.iicm.tugraz.at/wiki/Info2BM\n",
    "\n",
    "## Newsgroup\n",
    "\n",
    "* Server: news.tugraz.at\n",
    "* Group: info-bm\n",
    "\n",
    "## General Agenda\n",
    "\n",
    "90 min units consisting of:\n",
    "\n",
    "* 30 min presentation with smaller examples\n",
    "* 15 min example 1 shown by instructor\n",
    "* 30 min students solve example 2\n",
    "* 10 min presentation of solution for example 2 with Q/A\n",
    "\n",
    "## Agenda Today\n",
    "\n",
    "Reiteration of previous semester."
   ]
  },
  {
   "cell_type": "markdown",
   "metadata": {},
   "source": [
    "# Python 3\n",
    "\n",
    "https://docs.python.org/3/\n",
    "\n",
    "Recommended package:\n",
    "https://www.continuum.io/downloads"
   ]
  },
  {
   "cell_type": "markdown",
   "metadata": {},
   "source": [
    "# Datatypes\n",
    "\n",
    "https://docs.python.org/3/library/stdtypes.html\n",
    "\n",
    "Simple Datatypes:\n",
    "* bool e.G.: True, False\n",
    "* int e.G.: 1, 2, 3, 4\n",
    "* float e.G.: 3.141592653589793\n",
    "* str e.G.: \"hello world\"\n",
    "\n",
    "Formatting of strings:\n",
    "https://pyformat.info/"
   ]
  },
  {
   "cell_type": "markdown",
   "metadata": {},
   "source": [
    "## Typechecks\n",
    "\n",
    "Checks for datatypes can be done with the functions:\n",
    "* type() (https://docs.python.org/3/library/functions.html#type)\n",
    "* isinstance() (https://docs.python.org/3/library/functions.html#isinstance)\n",
    "\n",
    "Example:"
   ]
  },
  {
   "cell_type": "code",
   "execution_count": 49,
   "metadata": {
    "collapsed": false
   },
   "outputs": [
    {
     "name": "stdout",
     "output_type": "stream",
     "text": [
      "word is a string\n",
      "number is NOT a string\n",
      "word is a string\n",
      "number is NOT a string\n"
     ]
    }
   ],
   "source": [
    "word = \"hello wordld\"\n",
    "number = 42\n",
    "\n",
    "if type(word) == str:\n",
    "    print(\"word is a string\")\n",
    "    \n",
    "if type(number) != str:\n",
    "    print(\"number is NOT a string\")\n",
    "\n",
    "    \n",
    "if isinstance(word, str):\n",
    "    print(\"word is a string\")\n",
    "if not isinstance(number, str):\n",
    "    print(\"number is NOT a string\")\n",
    "    "
   ]
  },
  {
   "cell_type": "markdown",
   "metadata": {},
   "source": [
    "## Lists\n",
    "\n",
    "https://docs.python.org/3/library/stdtypes.html#sequence-types-list-tuple-range\n",
    "\n",
    "General form:"
   ]
  },
  {
   "cell_type": "code",
   "execution_count": 15,
   "metadata": {
    "collapsed": false
   },
   "outputs": [],
   "source": [
    "my_list = []\n",
    "my_tuple = ()\n",
    "my_set = set() # sets are lists storing only one instance of equal values"
   ]
  },
  {
   "cell_type": "markdown",
   "metadata": {},
   "source": [
    "Functions:\n",
    "\n",
    "* accessing via indeces (beginnend bei 0)\n",
    "* accessing multiple entries via slices ([start:end:steps])\n",
    "* len()\n",
    "* in\n",
    "* append()\n",
    "* del\n",
    "\n",
    "Example:"
   ]
  },
  {
   "cell_type": "code",
   "execution_count": 24,
   "metadata": {
    "collapsed": false
   },
   "outputs": [
    {
     "name": "stdout",
     "output_type": "stream",
     "text": [
      "Fritz\n",
      "['Fritz', 'fischt']\n",
      "True\n",
      "wordcount: 11\n",
      "unique wordcount: 6\n",
      "new wordcount: 12\n",
      "new unique wordcount: 7\n",
      "['Fischers', 'fischt', 'frische', 'Fische', ',', 'frische', 'Fische', 'fischt', 'Fischers', 'Fritz', 'asdf']\n"
     ]
    }
   ],
   "source": [
    "sentence = \"Fischers Fritz fischt frische Fische , frische Fische fischt Fischers Fritz\"\n",
    "words = sentence.split()\n",
    "unique_words = set(words)\n",
    "\n",
    "print(words[1])\n",
    "print(words[1:3]) # start is inclusive, end is exclusive\n",
    "print(\"Fische\" in words)\n",
    "\n",
    "print(\"wordcount: {}\".format(len(words)))\n",
    "print(\"unique wordcount: {}\".format(len(unique_words)))\n",
    "\n",
    "words.append(\"asdf\")\n",
    "unique_words = set(words)\n",
    "\n",
    "print(\"new wordcount: {}\".format(len(words)))\n",
    "print(\"new unique wordcount: {}\".format(len(unique_words)))\n",
    "\n",
    "del words[1]\n",
    "print(words)"
   ]
  },
  {
   "cell_type": "markdown",
   "metadata": {},
   "source": [
    "### List Comprehensions\n",
    "\n",
    "https://docs.python.org/3/tutorial/datastructures.html#list-comprehensions\n",
    "\n",
    "Small loops generating a list\n",
    "\n",
    "Example:"
   ]
  },
  {
   "cell_type": "code",
   "execution_count": 23,
   "metadata": {
    "collapsed": false
   },
   "outputs": [
    {
     "name": "stdout",
     "output_type": "stream",
     "text": [
      "[0, 1, 4, 9, 16, 25, 36, 49, 64, 81]\n"
     ]
    }
   ],
   "source": [
    "squares = [i**2 for i in range(10)]\n",
    "print(squares)"
   ]
  },
  {
   "cell_type": "markdown",
   "metadata": {},
   "source": [
    "Readablity should be paramount. If the instruction gets too long it should be splitted in multiple smaller ones."
   ]
  },
  {
   "cell_type": "markdown",
   "metadata": {},
   "source": [
    "## Dictionaries\n",
    "\n",
    "https://docs.python.org/3/library/stdtypes.html#mapping-types-dict\n",
    "\n",
    "Mapping of keys to values. The ordering of the entries is not guaranteed.\n",
    "\n",
    "general form:"
   ]
  },
  {
   "cell_type": "code",
   "execution_count": 25,
   "metadata": {
    "collapsed": true
   },
   "outputs": [],
   "source": [
    "my_dict = {}"
   ]
  },
  {
   "cell_type": "markdown",
   "metadata": {},
   "source": [
    "Interaction:\n",
    "\n",
    "* adressieren über die Keys\n",
    "* len()\n",
    "* in\n",
    "* del\n",
    "\n",
    "Example:"
   ]
  },
  {
   "cell_type": "code",
   "execution_count": 29,
   "metadata": {
    "collapsed": false
   },
   "outputs": [
    {
     "name": "stdout",
     "output_type": "stream",
     "text": [
      "peter has the number 1234\n",
      "andrea has the number 5678\n",
      "martin has the number 4321\n",
      "theresa has the number 8765\n",
      "{'andrea': 5678, 'martin': 4321, 'theresa': 8765}\n",
      "3\n",
      "False\n"
     ]
    }
   ],
   "source": [
    "numbers = {\"peter\": 1234, \"martin\": 4321, \"andrea\": 5678, \"theresa\": 8765}\n",
    "\n",
    "for key, value in numbers.items():\n",
    "    print(\"{} has the number {}\".format(key, value))\n",
    "\n",
    "del numbers[\"peter\"]\n",
    "print(numbers)\n",
    "print(len(numbers))\n",
    "print(\"hans\" in numbers)"
   ]
  },
  {
   "cell_type": "markdown",
   "metadata": {},
   "source": [
    "# Control structures"
   ]
  },
  {
   "cell_type": "markdown",
   "metadata": {},
   "source": [
    "## Branching\n",
    "\n",
    "https://docs.python.org/3/tutorial/controlflow.html#if-statements\n",
    "\n",
    "German keywords: wenn/falls\n",
    "\n",
    "general form:"
   ]
  },
  {
   "cell_type": "code",
   "execution_count": 11,
   "metadata": {
    "collapsed": false
   },
   "outputs": [],
   "source": [
    "condition = True\n",
    "\n",
    "if condition:\n",
    "    # handle true condition\n",
    "    pass\n",
    "elif not condition:\n",
    "    # handle additional conditions\n",
    "    pass\n",
    "else:\n",
    "    # handle if nothing of the above matched\n",
    "    pass"
   ]
  },
  {
   "cell_type": "markdown",
   "metadata": {},
   "source": [
    "Example:"
   ]
  },
  {
   "cell_type": "code",
   "execution_count": 3,
   "metadata": {
    "collapsed": false
   },
   "outputs": [
    {
     "name": "stdout",
     "output_type": "stream",
     "text": [
      "2017-03-06\n",
      "today is not an even day\n"
     ]
    }
   ],
   "source": [
    "from datetime import date\n",
    "\n",
    "today = date.today()\n",
    "\n",
    "print(today)\n",
    "\n",
    "if today.day % 2:\n",
    "    print(\"today is an even day\")\n",
    "else:\n",
    "    print(\"today is not an even day\")"
   ]
  },
  {
   "cell_type": "markdown",
   "metadata": {},
   "source": [
    "## Loops\n",
    "\n",
    "https://docs.python.org/3/tutorial/controlflow.html#for-statements\n",
    "https://docs.python.org/3/reference/compound_stmts.html#while\n",
    "\n",
    "German keywords: solange/für jedes X in Y\n",
    "\n",
    "General Form:"
   ]
  },
  {
   "cell_type": "code",
   "execution_count": 12,
   "metadata": {
    "collapsed": false
   },
   "outputs": [],
   "source": [
    "empty_list = ()\n",
    "condition = False\n",
    "\n",
    "while condition:\n",
    "    # do stuff\n",
    "    pass\n",
    "\n",
    "for i in empty_list:\n",
    "    # do stuff\n",
    "    pass"
   ]
  },
  {
   "cell_type": "markdown",
   "metadata": {},
   "source": [
    "Example:"
   ]
  },
  {
   "cell_type": "code",
   "execution_count": 7,
   "metadata": {
    "collapsed": false
   },
   "outputs": [
    {
     "name": "stdout",
     "output_type": "stream",
     "text": [
      "0\n",
      "1\n",
      "2\n",
      "3\n",
      "4\n",
      "5\n",
      "6\n",
      "7\n",
      "8\n",
      "9\n"
     ]
    }
   ],
   "source": [
    "keepRunning = True\n",
    "i = 0\n",
    "\n",
    "while keepRunning:\n",
    "    print(i)\n",
    "    i += 1\n",
    "    \n",
    "    if i >= 10:\n",
    "        keepRunning = False"
   ]
  },
  {
   "cell_type": "code",
   "execution_count": 5,
   "metadata": {
    "collapsed": false
   },
   "outputs": [
    {
     "name": "stdout",
     "output_type": "stream",
     "text": [
      "0\n",
      "1\n",
      "2\n",
      "3\n",
      "4\n",
      "5\n",
      "6\n",
      "7\n",
      "8\n",
      "9\n"
     ]
    }
   ],
   "source": [
    "for i in range(10):\n",
    "    print(i)"
   ]
  },
  {
   "cell_type": "markdown",
   "metadata": {},
   "source": [
    "# Functions"
   ]
  },
  {
   "cell_type": "markdown",
   "metadata": {},
   "source": [
    "## Calling functions\n",
    "\n",
    "E.g.:"
   ]
  },
  {
   "cell_type": "code",
   "execution_count": 32,
   "metadata": {
    "collapsed": false
   },
   "outputs": [
    {
     "name": "stdout",
     "output_type": "stream",
     "text": [
      "5\n"
     ]
    }
   ],
   "source": [
    "print(abs(-5))"
   ]
  },
  {
   "cell_type": "markdown",
   "metadata": {},
   "source": [
    "## Builtin Functions\n",
    "\n",
    "https://docs.python.org/3/library/functions.html\n",
    "\n",
    "E.g.:\n",
    "\n",
    "* input()\n",
    "* range()\n",
    "* abs()\n",
    "* round()\n",
    "* open()"
   ]
  },
  {
   "cell_type": "markdown",
   "metadata": {},
   "source": [
    "## Defining Functions\n",
    "\n",
    "https://docs.python.org/3/tutorial/controlflow.html#defining-functions\n",
    "\n",
    "There is no distinction in syntax when calling a user defined function.\n",
    "\n",
    "General form:"
   ]
  },
  {
   "cell_type": "code",
   "execution_count": null,
   "metadata": {
    "collapsed": true
   },
   "outputs": [],
   "source": [
    "def function_name(arg1, arg2):\n",
    "    pass"
   ]
  },
  {
   "cell_type": "markdown",
   "metadata": {},
   "source": [
    "A function might return a value with the return statement.\n",
    "\n",
    "E.g.:"
   ]
  },
  {
   "cell_type": "code",
   "execution_count": 34,
   "metadata": {
    "collapsed": false
   },
   "outputs": [
    {
     "name": "stdout",
     "output_type": "stream",
     "text": [
      "20\n"
     ]
    }
   ],
   "source": [
    "def area(length, width):\n",
    "    return length * width\n",
    "\n",
    "print(area(5, 4))"
   ]
  },
  {
   "cell_type": "markdown",
   "metadata": {},
   "source": [
    "## Default values\n",
    "\n",
    "Default values for arguments can be defined when defining the function."
   ]
  },
  {
   "cell_type": "code",
   "execution_count": 53,
   "metadata": {
    "collapsed": true
   },
   "outputs": [],
   "source": [
    "default_value = \"\"\n",
    "\n",
    "def function_name(arg1=default_value):\n",
    "    pass"
   ]
  },
  {
   "cell_type": "markdown",
   "metadata": {},
   "source": [
    "Example:"
   ]
  },
  {
   "cell_type": "code",
   "execution_count": 52,
   "metadata": {
    "collapsed": false
   },
   "outputs": [
    {
     "name": "stdout",
     "output_type": "stream",
     "text": [
      "1\n",
      "5\n"
     ]
    }
   ],
   "source": [
    "def area(length=1, width=1):\n",
    "    return length * width\n",
    "\n",
    "print(area())\n",
    "print(area(5))"
   ]
  },
  {
   "cell_type": "markdown",
   "metadata": {},
   "source": [
    "## Keyword Arguments\n",
    "\n",
    "Mostly used when using functions with many arguments and not all must be given. For the values not given by the caller a default value must be defined otherwise an exception will be thrown.\n",
    "\n",
    "Example:"
   ]
  },
  {
   "cell_type": "code",
   "execution_count": 54,
   "metadata": {
    "collapsed": false
   },
   "outputs": [
    {
     "name": "stdout",
     "output_type": "stream",
     "text": [
      "Wolfgang Amadeus Mozart was norn in 1756\n",
      "Hans Mozart was norn in 1970\n",
      "Hans Peter was norn in 1970\n"
     ]
    }
   ],
   "source": [
    "def print_person(first_name=\"Hans\", last_name=\"Peter\", born=1970):\n",
    "    print(\"{} {} was norn in {}\".format(first_name, last_name, born))\n",
    "    \n",
    "print_person(\"Wolfgang Amadeus\", \"Mozart\", 1756)\n",
    "print_person(last_name=\"Mozart\")\n",
    "print_person()"
   ]
  },
  {
   "cell_type": "markdown",
   "metadata": {},
   "source": [
    "# Exception handling\n",
    "\n",
    "https://docs.python.org/3/tutorial/errors.html\n",
    "\n",
    "Should be used whenever you are working with sources not under your control. E.g.:\n",
    "* User input\n",
    "* Files\n",
    "* Network sources"
   ]
  },
  {
   "cell_type": "code",
   "execution_count": 46,
   "metadata": {
    "collapsed": false
   },
   "outputs": [
    {
     "name": "stdout",
     "output_type": "stream",
     "text": [
      "search for number of: asdf\n",
      "couln't find asdf\n"
     ]
    }
   ],
   "source": [
    "numbers = {\"peter\": 1234, \"martin\": 4321, \"andrea\": 5678, \"theresa\": 8765}\n",
    "\n",
    "needle = input(\"search for number of: \")\n",
    "try:\n",
    "    print(\"the number of {} is {}\".format(needle, numbers[needle]))\n",
    "except KeyError:\n",
    "    print(\"couln't find {}\".format(needle))"
   ]
  },
  {
   "cell_type": "code",
   "execution_count": 41,
   "metadata": {
    "collapsed": false
   },
   "outputs": [
    {
     "name": "stdout",
     "output_type": "stream",
     "text": [
      "please enter an integer: 0\n"
     ]
    }
   ],
   "source": [
    "keepGoing = True\n",
    "\n",
    "while keepGoing:\n",
    "    line = input(\"please enter an integer: \")\n",
    "    try:\n",
    "        number = int(line)\n",
    "    except ValueError:\n",
    "        print(\"please enter a valid number!\")\n",
    "    \n",
    "    keepGoing = number"
   ]
  },
  {
   "cell_type": "markdown",
   "metadata": {},
   "source": [
    "# Programming example 1\n",
    "\n",
    "Write a program to check whether a string given by the user is a pallindrome."
   ]
  },
  {
   "cell_type": "code",
   "execution_count": null,
   "metadata": {
    "collapsed": true
   },
   "outputs": [],
   "source": []
  },
  {
   "cell_type": "markdown",
   "metadata": {},
   "source": [
    "# Programming example 2\n",
    "\n",
    "Write a program to check whether a number given by the user (with checking whether it was a valid number at all) is a prime."
   ]
  },
  {
   "cell_type": "code",
   "execution_count": null,
   "metadata": {
    "collapsed": true
   },
   "outputs": [],
   "source": []
  }
 ],
 "metadata": {
  "kernelspec": {
   "display_name": "Python 3",
   "language": "python",
   "name": "python3"
  },
  "language_info": {
   "codemirror_mode": {
    "name": "ipython",
    "version": 3
   },
   "file_extension": ".py",
   "mimetype": "text/x-python",
   "name": "python",
   "nbconvert_exporter": "python",
   "pygments_lexer": "ipython3",
   "version": "3.5.2"
  }
 },
 "nbformat": 4,
 "nbformat_minor": 0
}
