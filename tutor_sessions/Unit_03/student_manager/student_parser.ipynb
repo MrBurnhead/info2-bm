{
 "cells": [
  {
   "cell_type": "code",
   "execution_count": 1,
   "metadata": {
    "collapsed": true
   },
   "outputs": [],
   "source": [
    "class StudentParser:\n",
    "    \"\"\"Abstract base class\n",
    "    \n",
    "    \"\"\"\n",
    "    def __init__(self):\n",
    "        \"\"\"Initializes the StudentParser Class\n",
    "        \n",
    "        Sets the data property to None\n",
    "        \"\"\"\n",
    "        self._student_data = None\n",
    "    def read_data(self,options=\"\"):\n",
    "        raise NotImplementedError\n",
    "    @property\n",
    "    def students(self):\n",
    "        \"\"\"Returns the student data dictionary\n",
    "        \"\"\"\n",
    "        return self._student_data"
   ]
  }
 ],
 "metadata": {
  "anaconda-cloud": {},
  "kernelspec": {
   "display_name": "Python [conda root]",
   "language": "python",
   "name": "conda-root-py"
  },
  "language_info": {
   "codemirror_mode": {
    "name": "ipython",
    "version": 3
   },
   "file_extension": ".py",
   "mimetype": "text/x-python",
   "name": "python",
   "nbconvert_exporter": "python",
   "pygments_lexer": "ipython3",
   "version": "3.5.2"
  }
 },
 "nbformat": 4,
 "nbformat_minor": 1
}
