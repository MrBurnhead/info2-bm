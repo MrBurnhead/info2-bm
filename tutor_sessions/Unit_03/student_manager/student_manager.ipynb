{
 "cells": [
  {
   "cell_type": "code",
   "execution_count": 1,
   "metadata": {
    "collapsed": false
   },
   "outputs": [
    {
     "ename": "SystemError",
     "evalue": "Parent module '' not loaded, cannot perform relative import",
     "output_type": "error",
     "traceback": [
      "\u001b[0;31m---------------------------------------------------------------------------\u001b[0m",
      "\u001b[0;31mSystemError\u001b[0m                               Traceback (most recent call last)",
      "\u001b[0;32m<ipython-input-1-f657a9e8572c>\u001b[0m in \u001b[0;36m<module>\u001b[0;34m()\u001b[0m\n\u001b[0;32m----> 1\u001b[0;31m \u001b[0;32mfrom\u001b[0m \u001b[0;34m.\u001b[0m\u001b[0mcsv_parser\u001b[0m \u001b[0;32mimport\u001b[0m \u001b[0mCSVParser\u001b[0m\u001b[0;34m\u001b[0m\u001b[0m\n\u001b[0m\u001b[1;32m      2\u001b[0m \u001b[0;32mfrom\u001b[0m \u001b[0;34m.\u001b[0m\u001b[0minput_parser\u001b[0m \u001b[0;32mimport\u001b[0m \u001b[0mInputParser\u001b[0m\u001b[0;34m\u001b[0m\u001b[0m\n\u001b[1;32m      3\u001b[0m \u001b[0;34m\u001b[0m\u001b[0m\n\u001b[1;32m      4\u001b[0m \u001b[0;32mclass\u001b[0m \u001b[0mStudentManager\u001b[0m\u001b[0;34m:\u001b[0m\u001b[0;34m\u001b[0m\u001b[0m\n\u001b[1;32m      5\u001b[0m     \"\"\"Main package class\n",
      "\u001b[0;31mSystemError\u001b[0m: Parent module '' not loaded, cannot perform relative import"
     ]
    }
   ],
   "source": [
    "from .csv_parser import CSVParser\n",
    "from .static_parser import StaticParser\n",
    "\n",
    "class StudentManager:\n",
    "    \"\"\"Main package class\n",
    "    \"\"\"\n",
    "    def __init__(self, parser):\n",
    "        \"\"\"Constructor, initializes the StudentManager Class\n",
    "        \n",
    "        Valid arguments are: \"csv\" and \"static\"\n",
    "        \"\"\"\n",
    "        if parser == \"csv\":\n",
    "            self._parser = CSVParser()\n",
    "        elif parser == \"static\":\n",
    "            self._parser = StaticParser()\n",
    "        else:\n",
    "            raise NotImplementedError\n",
    "    @property\n",
    "    def parser(self):\n",
    "        \"\"\"Returns the used student_parser\n",
    "        \"\"\"\n",
    "        return self._parser\n",
    "    @property \n",
    "    def students(self):\n",
    "        \"\"\"Convinient function to access the parsed data object\n",
    "        \"\"\"\n",
    "        return self._parser.students\n",
    "    def read_data(self,options=\"\"):\n",
    "        \"\"\"Makes the parsers read_data function available\n",
    "        \"\"\"\n",
    "        return self._parser.read_data(options)"
   ]
  }
 ],
 "metadata": {
  "anaconda-cloud": {},
  "kernelspec": {
   "display_name": "Python [conda root]",
   "language": "python",
   "name": "conda-root-py"
  },
  "language_info": {
   "codemirror_mode": {
    "name": "ipython",
    "version": 3
   },
   "file_extension": ".py",
   "mimetype": "text/x-python",
   "name": "python",
   "nbconvert_exporter": "python",
   "pygments_lexer": "ipython3",
   "version": "3.5.2"
  }
 },
 "nbformat": 4,
 "nbformat_minor": 1
}
