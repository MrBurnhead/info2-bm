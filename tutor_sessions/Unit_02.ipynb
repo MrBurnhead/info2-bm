{
 "cells": [
  {
   "cell_type": "markdown",
   "metadata": {},
   "source": [
    "# Unit 02: Variables in classes\n",
    "\n",
    "## Topics\n",
    "\n",
    "* Object members\n",
    "* Static members\n",
    "* Style Guide\n",
    "* Scopes\n",
    "* Excercises"
   ]
  },
  {
   "cell_type": "markdown",
   "metadata": {},
   "source": [
    "## Object members\n",
    "\n",
    "* Object members are directly attached to the object\n",
    "* All members are public\n",
    "* If direct access is not desired the variable should be prefixed with '_' (see Style Guide)\n",
    "* Access can be controlled using getters and setters\n",
    "\n",
    "Example:"
   ]
  },
  {
   "cell_type": "code",
   "execution_count": 18,
   "metadata": {
    "collapsed": false
   },
   "outputs": [
    {
     "name": "stdout",
     "output_type": "stream",
     "text": [
      "my name *****\n",
      "another name *****\n",
      "my password\n",
      "very secret\n"
     ]
    }
   ],
   "source": [
    "class MemberTest:\n",
    "    def __init__(self, public_value, private_value):\n",
    "        self.public_value = public_value\n",
    "        self._private_value = private_value\n",
    "    \n",
    "    @property\n",
    "    def private_value(self):\n",
    "        return \"*****\"\n",
    "    \n",
    "a = MemberTest(\"my name\", \"my password\")\n",
    "b = MemberTest(\"another name\", \"very secret\")\n",
    "\n",
    "print(\"{} {}\".format(a.public_value, a.private_value))\n",
    "print(\"{} {}\".format(b.public_value, b.private_value))\n",
    "\n",
    "# BUT:\n",
    "print(a._private_value)\n",
    "print(b._private_value)"
   ]
  },
  {
   "cell_type": "markdown",
   "metadata": {},
   "source": [
    "## Static members\n",
    "\n",
    "* Static members are attached to the class\n",
    "    * And so shared across all instances of that class\n",
    "\n",
    "Example:"
   ]
  },
  {
   "cell_type": "code",
   "execution_count": 14,
   "metadata": {
    "collapsed": false
   },
   "outputs": [
    {
     "name": "stdout",
     "output_type": "stream",
     "text": [
      "0\n",
      "a 0\n",
      "b 0\n"
     ]
    }
   ],
   "source": [
    "class StaticTest:\n",
    "    instances = 0\n",
    "    \n",
    "    def __init__(self, value):\n",
    "        DummyClass.instances += 1\n",
    "        \n",
    "        self._value = value\n",
    "    \n",
    "    @property\n",
    "    def value(self):\n",
    "        return self._value\n",
    "        \n",
    "a = StaticTest(\"a\")\n",
    "b = StaticTest(\"b\")\n",
    "print(StaticTest.instances)\n",
    "print(\"{} {}\".format(a.value, a.instances))\n",
    "print(\"{} {}\".format(b.value, b.instances))"
   ]
  },
  {
   "cell_type": "markdown",
   "metadata": {},
   "source": [
    "## Naming conventions\n",
    "\n",
    "Style Guide for Python Code: https://www.python.org/dev/peps/pep-0008/\n",
    "\n",
    "* Modules should have short, all-lowercase names.\n",
    "* Class names should normally use the CapWords convention.\n",
    "* Function names should be lowercase, with words separated by underscores as necessary.\n",
    "* Method names should be lowercase, with words separated by underscores as necessary.\n",
    "* Instance variable names should be lowercase, with words separated by underscores as necessary.\n",
    "* Constants are usually defined on a module level and written in all capital letters with underscores separating words.\n",
    "* _single_leading_underscore : weak \"internal use\" indicator.\n",
    "* Always use self for the first argument to instance methods.\n",
    "* Always use cls for the first argument to class methods.\n",
    "\n",
    "Example:"
   ]
  },
  {
   "cell_type": "code",
   "execution_count": 3,
   "metadata": {
    "collapsed": true
   },
   "outputs": [],
   "source": [
    "SOME_CONSTANT = 3.14159265359\n",
    "normal_variable = None\n",
    "\n",
    "def a_function_name():\n",
    "    pass\n",
    "\n",
    "class SomeClass:\n",
    "    CLASS_CONSTANT = 3.14159265359\n",
    "    \n",
    "    def a_method_name(self):\n",
    "        pass"
   ]
  },
  {
   "cell_type": "markdown",
   "metadata": {},
   "source": [
    "## Scope\n",
    "\n",
    "Scopes define the lifetime of a variable and where they can be accessed from.\n",
    "\n",
    "Loosely spoken there are only 2 scopes in Python:\n",
    "* Global scope\n",
    "    * Global variables are always visible/accessible\n",
    "* Local scope\n",
    "    * Enclosed in functions\n",
    "    * Enclosed in methods\n",
    "        * Values can only be shared when attached to the object (e.g. self.x)"
   ]
  },
  {
   "cell_type": "code",
   "execution_count": 36,
   "metadata": {
    "collapsed": false
   },
   "outputs": [
    {
     "name": "stdout",
     "output_type": "stream",
     "text": [
      "9\n",
      "19\n",
      "20\n",
      "101\n",
      "100\n"
     ]
    }
   ],
   "source": [
    "test = 100\n",
    "another_test = 101\n",
    "\n",
    "for i in range(10):\n",
    "    pass\n",
    "print(i) # i still exists since it is in the global scope\n",
    "\n",
    "def dummy_function():\n",
    "    for j in range(10, 20):\n",
    "        pass\n",
    "    print(j) # j still exists (-> local scope)\n",
    "    \n",
    "    # print(test) # would cause an exception since we will change it in this scope\n",
    "    test = 20\n",
    "    print(test) # new instance of test created in function scope\n",
    "    \n",
    "    print(another_test)\n",
    "    \n",
    "dummy_function()\n",
    "print(test) # test has still the same value in the global scope\n",
    "# print(j) # j doesn't exist in the global scope"
   ]
  },
  {
   "cell_type": "markdown",
   "metadata": {},
   "source": [
    "## Programming example 1\n",
    "\n",
    "* Write an abstract Cache class\n",
    "    * The method get(key) should retrieve a cached value\n",
    "    * If the value is not cached, yet it should be retrieved with the retrieve(key) method\n",
    "        * The implementation of the retrieve method should be left to the subclasses\n",
    "* Subclass Cache\n",
    "* Test it"
   ]
  },
  {
   "cell_type": "code",
   "execution_count": 19,
   "metadata": {
    "collapsed": false
   },
   "outputs": [
    {
     "name": "stdout",
     "output_type": "stream",
     "text": [
      "9\n",
      "9\n"
     ]
    }
   ],
   "source": [
    "from urllib import request\n",
    "\n",
    "class Cache:\n",
    "    \"\"\"Simplest abstract cache implementation ever. Sublclasses must implement\n",
    "    the retrieve(key) method.\"\"\"\n",
    "\n",
    "    def __init__(self):\n",
    "        self._cache = {}\n",
    "\n",
    "    def get(self, key):\n",
    "        \"\"\"Searches for a chached value for key. Returns the value if found.\n",
    "        Otherwise the retrieve(key) method is executed, whose return value is\n",
    "        cached for future calls.\"\"\"\n",
    "\n",
    "        if key in self._cache:\n",
    "            value = self._cache[key]\n",
    "        else:\n",
    "            value = self.retrieve(key)\n",
    "            self._cache[key] = value\n",
    "        return value\n",
    "\n",
    "\n",
    "class EvalCache(Cache):\n",
    "    \"\"\"Caching calls to eval. Consider avoiding calls to eval.\"\"\"\n",
    "\n",
    "    def __init__(self):\n",
    "        Cache.__init__(self)\n",
    "\n",
    "    def retrieve(self, key):\n",
    "        \"\"\"Evaluates key and returns it.\"\"\"\n",
    "        return eval(key)\n",
    "\n",
    "\n",
    "class WebCache(Cache):\n",
    "    \"\"\"Caching web requests with\n",
    "    https://docs.python.org/3/library/urllib.request.html#urllib.request.urlopen.\"\"\"\n",
    "\n",
    "    def __init__(self):\n",
    "        Cache.__init__(self)\n",
    "\n",
    "    def retrieve(self, key):\n",
    "        \"\"\"Retrieves the values to cache with urlopen.\"\"\"\n",
    "        with request.urlopen(key) as u:\n",
    "            return u.read()\n",
    "\n",
    "\n",
    "if __name__ == '__main__':\n",
    "    cache = EvalCache()\n",
    "    print(cache.get(\"4+5\"))\n",
    "    print(cache.get(\"4+5\"))\n",
    "\n",
    "    web = WebCache()\n",
    "    web.get(\"http://www.google.com\")\n",
    "    web.get(\"http://www.google.com\")\n"
   ]
  },
  {
   "cell_type": "markdown",
   "metadata": {},
   "source": [
    "## Programming example 2\n",
    "\n",
    "Write a class which represents a person.\n",
    "* On initialization it should take a name\n",
    "* Marry a Person with the marry method - in our world only unmarried Persons can marry\n",
    "* Write a Method get_child\n",
    "    * In our world only marrid persons can get children\n",
    "    * The method first checks whether the person is married\n",
    "    * Then it updates both the mother and father to be the parent\n",
    "    * There should be a member variable to remember the parents.\n"
   ]
  },
  {
   "cell_type": "code",
   "execution_count": 6,
   "metadata": {
    "collapsed": false
   },
   "outputs": [
    {
     "name": "stdout",
     "output_type": "stream",
     "text": [
      "<petra>\n",
      "<hans>\n",
      "[<__main__.Person object at 0x7f2c622c8c88>]\n",
      "[<__main__.Person object at 0x7f2c622c8c88>]\n"
     ]
    }
   ],
   "source": [
    "class Person:\n",
    "    def __init__(self, name):\n",
    "        self._name = name\n",
    "        self._married_to = None\n",
    "        self._children = []\n",
    "        self._parents = []\n",
    "        \n",
    "    @property\n",
    "    def name(self):\n",
    "        return self._name\n",
    "        \n",
    "    @property\n",
    "    def married_to(self):\n",
    "        return self._married_to\n",
    "    \n",
    "    @property\n",
    "    def children(self):\n",
    "        return self._children\n",
    "\n",
    "    @property\n",
    "    def parents(self):\n",
    "        return self._parents\n",
    "        \n",
    "    def marry(self, other):\n",
    "        if self._married_to:\n",
    "            raise ValueError(\"only unmarried persons can marry\")\n",
    "\n",
    "        self._married_to = other\n",
    "        other._married_to = self\n",
    "        \n",
    "    def get_child(self, child):\n",
    "        if not self._married_to:\n",
    "            raise ValueError(\"unmarried persons cant get children\")\n",
    "            \n",
    "        self._children.append(child)\n",
    "        self._married_to._children.append(child)\n",
    "        \n",
    "        child._parents.append(self)\n",
    "        child._parents.append(self._married_to)\n",
    "        \n",
    "    def __str__(self):\n",
    "        return \"<{}>\".format(self._name)\n",
    "        \n",
    "hans = Person(\"hans\")\n",
    "petra = Person(\"petra\")\n",
    "child = Person(\"child\")\n",
    "\n",
    "petra.marry(hans)\n",
    "hans.get_child(child)\n",
    "\n",
    "print(hans.married_to)\n",
    "print(petra.married_to)\n",
    "\n",
    "print(hans.children)\n",
    "print(petra.children)"
   ]
  },
  {
   "cell_type": "code",
   "execution_count": null,
   "metadata": {
    "collapsed": true
   },
   "outputs": [],
   "source": []
  }
 ],
 "metadata": {
  "kernelspec": {
   "display_name": "Python 3",
   "language": "python",
   "name": "python3"
  },
  "language_info": {
   "codemirror_mode": {
    "name": "ipython",
    "version": 3
   },
   "file_extension": ".py",
   "mimetype": "text/x-python",
   "name": "python",
   "nbconvert_exporter": "python",
   "pygments_lexer": "ipython3",
   "version": "3.5.3"
  }
 },
 "nbformat": 4,
 "nbformat_minor": 0
}
