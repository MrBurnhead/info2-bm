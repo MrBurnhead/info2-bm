{
 "cells": [
  {
   "cell_type": "markdown",
   "metadata": {},
   "source": [
    "# Unit04: Abstraction and Inheritance\n",
    "\n",
    "## Topics\n",
    "* Inheritance\n",
    "* Overwritting\n",
    "* mulitple inheritance\n",
    "* multi-level inheritance\n",
    "* mangled names\n",
    "* Abstraction\n",
    "* Examples\n",
    "\n"
   ]
  },
  {
   "cell_type": "markdown",
   "metadata": {
    "collapsed": true
   },
   "source": [
    "## Inheritance\n",
    "Basic Idea: Improve Code-Reusability\n",
    "\n",
    "To let a class inherit from another, you have to add after the definition of the subclass, the basisclass in brackets.\n",
    "\n",
    "Example:"
   ]
  },
  {
   "cell_type": "code",
   "execution_count": 25,
   "metadata": {
    "collapsed": false
   },
   "outputs": [
    {
     "name": "stdout",
     "output_type": "stream",
     "text": [
      "Constructor of A\n",
      "Methode n of B\n",
      "Methode m of A. It's self.X = 1337\n"
     ]
    }
   ],
   "source": [
    "class A:\n",
    "    def __init__(self):\n",
    "        self.X = 1337\n",
    "        print(\"Constructor of A\")\n",
    "    def m(self):\n",
    "        print(\"Methode m of A. It's self.X =\", self.X)\n",
    "        \n",
    "class B(A):\n",
    "    def n(self):\n",
    "        print(\"Methode n of B\")\n",
    "        \n",
    "b = B()\n",
    "b.n()\n",
    "b.m()"
   ]
  },
  {
   "cell_type": "markdown",
   "metadata": {},
   "source": [
    "## Overwriting\n",
    "a class is Implementing a methode, that already exists in the parent-class."
   ]
  },
  {
   "cell_type": "code",
   "execution_count": 26,
   "metadata": {
    "collapsed": false
   },
   "outputs": [
    {
     "name": "stdout",
     "output_type": "stream",
     "text": [
      "Constructor of B\n",
      "Methode n of B. It's self.Y = 10000\n"
     ]
    },
    {
     "ename": "AttributeError",
     "evalue": "'B' object has no attribute 'X'",
     "output_type": "error",
     "traceback": [
      "\u001b[0;31m---------------------------------------------------------------------------\u001b[0m",
      "\u001b[0;31mAttributeError\u001b[0m                            Traceback (most recent call last)",
      "\u001b[0;32m<ipython-input-26-a036a56a2bb0>\u001b[0m in \u001b[0;36m<module>\u001b[0;34m()\u001b[0m\n\u001b[1;32m      8\u001b[0m \u001b[0mb\u001b[0m \u001b[1;33m=\u001b[0m \u001b[0mB\u001b[0m\u001b[1;33m(\u001b[0m\u001b[1;33m)\u001b[0m\u001b[1;33m\u001b[0m\u001b[0m\n\u001b[1;32m      9\u001b[0m \u001b[0mb\u001b[0m\u001b[1;33m.\u001b[0m\u001b[0mn\u001b[0m\u001b[1;33m(\u001b[0m\u001b[1;33m)\u001b[0m\u001b[1;33m\u001b[0m\u001b[0m\n\u001b[0;32m---> 10\u001b[0;31m \u001b[0mb\u001b[0m\u001b[1;33m.\u001b[0m\u001b[0mm\u001b[0m\u001b[1;33m(\u001b[0m\u001b[1;33m)\u001b[0m \u001b[1;31m# --> Error: why?\u001b[0m\u001b[1;33m\u001b[0m\u001b[0m\n\u001b[0m",
      "\u001b[0;32m<ipython-input-25-ab3944f52b1d>\u001b[0m in \u001b[0;36mm\u001b[0;34m(self)\u001b[0m\n\u001b[1;32m      4\u001b[0m         \u001b[0mprint\u001b[0m\u001b[1;33m(\u001b[0m\u001b[1;34m\"Constructor of A\"\u001b[0m\u001b[1;33m)\u001b[0m\u001b[1;33m\u001b[0m\u001b[0m\n\u001b[1;32m      5\u001b[0m     \u001b[1;32mdef\u001b[0m \u001b[0mm\u001b[0m\u001b[1;33m(\u001b[0m\u001b[0mself\u001b[0m\u001b[1;33m)\u001b[0m\u001b[1;33m:\u001b[0m\u001b[1;33m\u001b[0m\u001b[0m\n\u001b[0;32m----> 6\u001b[0;31m         \u001b[0mprint\u001b[0m\u001b[1;33m(\u001b[0m\u001b[1;34m\"Methode m of A. It's self.X =\"\u001b[0m\u001b[1;33m,\u001b[0m \u001b[0mself\u001b[0m\u001b[1;33m.\u001b[0m\u001b[0mX\u001b[0m\u001b[1;33m)\u001b[0m\u001b[1;33m\u001b[0m\u001b[0m\n\u001b[0m\u001b[1;32m      7\u001b[0m \u001b[1;33m\u001b[0m\u001b[0m\n\u001b[1;32m      8\u001b[0m \u001b[1;32mclass\u001b[0m \u001b[0mB\u001b[0m\u001b[1;33m(\u001b[0m\u001b[0mA\u001b[0m\u001b[1;33m)\u001b[0m\u001b[1;33m:\u001b[0m\u001b[1;33m\u001b[0m\u001b[0m\n",
      "\u001b[0;31mAttributeError\u001b[0m: 'B' object has no attribute 'X'"
     ]
    }
   ],
   "source": [
    "class B(A):\n",
    "    def __init__(self):\n",
    "        self.Y = 10000\n",
    "    print(\"Constructor of B\")\n",
    "    def n(self):\n",
    "        print(\"Methode n of B. It's self.Y =\", self.Y)\n",
    "        \n",
    "b = B()\n",
    "b.n()\n",
    "b.m() # --> Error: why?"
   ]
  },
  {
   "cell_type": "markdown",
   "metadata": {},
   "source": [
    "--> because constructor of class A is responsible for the variable X\n",
    "\n",
    "If you overwrite the constructor of the superclass, you should call the methode of the superclass explicit."
   ]
  },
  {
   "cell_type": "code",
   "execution_count": 3,
   "metadata": {
    "collapsed": false
   },
   "outputs": [
    {
     "name": "stdout",
     "output_type": "stream",
     "text": [
      "Constructor of A\n",
      "Constructor of B\n",
      "Methode n of B. It's self.Y = 10000\n",
      "Methode m of A. It's self.X = 1337\n"
     ]
    }
   ],
   "source": [
    "class B(A):\n",
    "    def __init__(self):\n",
    "        super().__init__()\n",
    "        self.Y = 10000\n",
    "        print(\"Constructor of B\")\n",
    "    def n(self):\n",
    "        print(\"Methode n of B. It's self.Y =\", self.Y)\n",
    "        \n",
    "b = B()\n",
    "b.n()\n",
    "b.m()"
   ]
  },
  {
   "cell_type": "markdown",
   "metadata": {},
   "source": [
    "with the keyword super. , you are able to call explicit methods of the superclass, even if you overwrite them in you class."
   ]
  },
  {
   "cell_type": "code",
   "execution_count": 4,
   "metadata": {
    "collapsed": false
   },
   "outputs": [
    {
     "name": "stdout",
     "output_type": "stream",
     "text": [
      "Constructor of A\n",
      "Constructor of B\n",
      "Methode m of B.\n",
      "Methode m of A. It's self.X = 1337\n"
     ]
    }
   ],
   "source": [
    "class B(A):\n",
    "    def __init__(self):\n",
    "        super().__init__()\n",
    "        self.Y = 10000\n",
    "        print(\"Constructor of B\")\n",
    "    def n(self):\n",
    "        print(\"Methode n of B. It's self.Y =\", self.Y)\n",
    "    def m(self):\n",
    "        print(\"Methode m of B.\")\n",
    "        \n",
    "        super().m()\n",
    "b = B()\n",
    "b.m()"
   ]
  },
  {
   "cell_type": "markdown",
   "metadata": {},
   "source": [
    "## multiple inheritance\n",
    "\n",
    "A class, which inherits the attributs from more than one superclass"
   ]
  },
  {
   "cell_type": "markdown",
   "metadata": {
    "collapsed": true
   },
   "source": [
    "Example:\n",
    "\n",
    "                            Human                          Student\n",
    "                                            \n",
    "                                            \n",
    "                                            \n",
    "                                            Learner"
   ]
  },
  {
   "cell_type": "code",
   "execution_count": 6,
   "metadata": {
    "collapsed": false
   },
   "outputs": [
    {
     "name": "stdout",
     "output_type": "stream",
     "text": [
      "Learner Class\n",
      "HumanStudent\n"
     ]
    }
   ],
   "source": [
    "class Human:\n",
    "    being = \"Human\"\n",
    "    def __init__(self):\n",
    "        print(\"Human Class\")\n",
    "        \n",
    "    def talk(self):\n",
    "        print(\"I am talking as a human\")\n",
    "\n",
    "\n",
    "class Student:\n",
    "    status = \"Student\"\n",
    "    def __init__(self):\n",
    "        print(\"Student Class\")\n",
    "    \n",
    "    def talk(self):\n",
    "        print(\"I am talking as a student\")\n",
    "\n",
    "class Learner(Human, Student):\n",
    "    def __init__(self):\n",
    "        print(\"Learner Class\")\n",
    "\n",
    "learner = Learner();\n",
    "\n",
    "print(learner.being + learner.status)\n"
   ]
  },
  {
   "cell_type": "markdown",
   "metadata": {},
   "source": [
    "Problem: What if both parent-classes have a methode with the same name, but with different functionality?"
   ]
  },
  {
   "cell_type": "code",
   "execution_count": 7,
   "metadata": {
    "collapsed": false
   },
   "outputs": [
    {
     "name": "stdout",
     "output_type": "stream",
     "text": [
      "I am talking as a human\n"
     ]
    }
   ],
   "source": [
    "learner.talk()"
   ]
  },
  {
   "cell_type": "markdown",
   "metadata": {},
   "source": [
    "The python interpreter uses the function of the parent class on the furthest left side."
   ]
  },
  {
   "cell_type": "markdown",
   "metadata": {},
   "source": [
    "## multilevel inheritance"
   ]
  },
  {
   "cell_type": "code",
   "execution_count": 8,
   "metadata": {
    "collapsed": false
   },
   "outputs": [
    {
     "name": "stdout",
     "output_type": "stream",
     "text": [
      "Learner Class\n",
      "HumanStudent\n",
      "I am talking as a student\n"
     ]
    }
   ],
   "source": [
    "class Human:\n",
    "    being = \"Human\"\n",
    "    def __init__(self):\n",
    "        print(\"Human Class\")\n",
    "        \n",
    "    def talk(self):\n",
    "        print(\"I am talking as a human\")\n",
    "\n",
    "\n",
    "class Student(Human):\n",
    "    status = \"Student\"\n",
    "    def __init__(self):\n",
    "        print(\"Student Class\")\n",
    "    \n",
    "    def talk(self):\n",
    "        print(\"I am talking as a student\")\n",
    "\n",
    "class Learner(Student):\n",
    "    def __init__(self):\n",
    "        print(\"Learner Class\")\n",
    "\n",
    "learner = Learner();\n",
    "\n",
    "print(learner.being + learner.status)\n",
    "learner.talk()"
   ]
  },
  {
   "cell_type": "markdown",
   "metadata": {},
   "source": [
    "## mangled names\n",
    "Name mangling is helpful for letting subclasses override methods without breaking intraclass method calls. \n",
    "Mangling rules are designed mostly to avoid accidents; it still is possible to access or modify a variable that is considered private. This can even be useful in special circumstances, such as in the debugger."
   ]
  },
  {
   "cell_type": "code",
   "execution_count": 10,
   "metadata": {
    "collapsed": true
   },
   "outputs": [],
   "source": [
    "class Mapping:\n",
    "    def __init__(self, iterable):\n",
    "        self.items_list = []\n",
    "        self.__update(iterable)\n",
    "\n",
    "    def update(self, iterable):\n",
    "        for item in iterable:\n",
    "            self.items_list.append(item)\n",
    "\n",
    "    __update = update   # private copy of original update() method\n",
    "\n",
    "class MappingSubclass(Mapping):\n",
    "\n",
    "    def update(self, keys, values):\n",
    "        # provides new signature for update()\n",
    "        # but does not break __init__()\n",
    "        for item in zip(keys, values):\n",
    "            self.items_list.append(item)"
   ]
  },
  {
   "cell_type": "markdown",
   "metadata": {},
   "source": [
    "## Abstraction\n",
    "In software engineering and computer science, abstraction is a technique for arranging complexity of computer systems. It works by establishing a level of complexity on which a person interacts with the system, suppressing the more complex details below the current level.(wikipedia)\n",
    "\n",
    "To creat an Abstract Base Class(ABC) in Pyhton, use class abc.ABCMeta\n",
    "Metaclass for defining Abstract Base Classes (ABCs).\n"
   ]
  },
  {
   "cell_type": "code",
   "execution_count": 24,
   "metadata": {
    "collapsed": false
   },
   "outputs": [
    {
     "name": "stdout",
     "output_type": "stream",
     "text": [
      "Subclass: True\n",
      "Instance: True\n"
     ]
    }
   ],
   "source": [
    "import abc\n",
    "\n",
    "class PluginBase(metaclass=abc.ABCMeta):\n",
    "    \n",
    "    def __init__(self):\n",
    "        print(\"Abstract Base Class\")\n",
    "    \n",
    "    @abc.abstractmethod\n",
    "    def load(self, input):\n",
    "        \"\"\"Retrieve data from the input source and return an object.\"\"\"\n",
    "        return\n",
    "\n",
    "    @abc.abstractmethod\n",
    "    def save(self, output, data):\n",
    "        \"\"\"Save the data object to the output.\"\"\"\n",
    "        return\n",
    "\n",
    "\n",
    "class SubclassImplementation(PluginBase):\n",
    "    def load(self, input):\n",
    "        return input.read()\n",
    "\n",
    "    def save(self, output, data):\n",
    "        return output.write(data)\n",
    "\n",
    "\n",
    "if __name__ == '__main__':\n",
    "    print('Subclass:', issubclass(SubclassImplementation, PluginBase))\n",
    "    print('Instance:', isinstance(SubclassImplementation(), PluginBase))"
   ]
  },
  {
   "cell_type": "code",
   "execution_count": 5,
   "metadata": {
    "collapsed": false
   },
   "outputs": [
    {
     "name": "stdout",
     "output_type": "stream",
     "text": [
      "ERROR: Can't instantiate abstract class Base with abstract methods value\n",
      "Abstract Base Class\n",
      "Implementation.value: concrete property\n"
     ]
    }
   ],
   "source": [
    "class Base(metaclass=abc.ABCMeta):\n",
    "    \n",
    "    def __init__(self):\n",
    "        print(\"Abstract Base Class\")\n",
    "    \n",
    "    @abc.abstractproperty\n",
    "    def value(self):\n",
    "        return 'Should never get here'\n",
    "\n",
    "\n",
    "class Implementation(Base):\n",
    "    \n",
    "    @property\n",
    "    def value(self):\n",
    "        return 'concrete property'\n",
    "\n",
    "\n",
    "try:\n",
    "    b = Base()\n",
    "    print('Base.value:', b.value)\n",
    "except Exception as err:\n",
    "    print('ERROR:', str(err))\n",
    "\n",
    "i = Implementation()\n",
    "print('Implementation.value:', i.value)"
   ]
  },
  {
   "cell_type": "markdown",
   "metadata": {
    "collapsed": true
   },
   "source": [
    "## Example 1\n",
    "wrtite an abstract Base class with getter and setter and two subclasses. One of the subclasses should only be a partial implemented one, the other one should be an complete implementation of the abstract base class"
   ]
  },
  {
   "cell_type": "code",
   "execution_count": 11,
   "metadata": {
    "collapsed": false
   },
   "outputs": [
    {
     "name": "stdout",
     "output_type": "stream",
     "text": [
      "Abstract Base Class\n",
      "PartialImplementation.value: Read-only\n",
      "Abstract Base Class\n",
      "Implementation.value: Default Value\n",
      "Changed value: New value\n"
     ]
    }
   ],
   "source": [
    "import abc\n",
    "\n",
    "\n",
    "class Base(abc.ABC):\n",
    "    _value = \"Default Value\"\n",
    "    def __init__(self):\n",
    "        \n",
    "        print(\"Abstract Base Class\")\n",
    "    \n",
    "    @abc.abstractproperty\n",
    "    def value(self):\n",
    "        return \"Should never reach here\"\n",
    "\n",
    "    @value.setter\n",
    "    @abc.abstractmethod\n",
    "    def value(self, new_value):\n",
    "        return\n",
    "\n",
    "\n",
    "class PartialImplementation(Base):\n",
    "\n",
    "    @property\n",
    "    def value(self):\n",
    "        return \"Read-only\"\n",
    "\n",
    "\n",
    "class Implementation(Base):\n",
    "     \n",
    "\n",
    "    @property\n",
    "    def value(self):\n",
    "        return self._value\n",
    "\n",
    "    @value.setter\n",
    "    def value(self, new_value):\n",
    "        self._value = new_value\n",
    "\n",
    "\n",
    "p = PartialImplementation()\n",
    "print('PartialImplementation.value:', p.value)\n",
    "\n",
    "\n",
    "i = Implementation()\n",
    "print('Implementation.value:', i.value)\n",
    "\n",
    "i.value = \"New value\"\n",
    "print('Changed value:', i.value)"
   ]
  },
  {
   "cell_type": "markdown",
   "metadata": {},
   "source": [
    "## Example 2\n",
    "write an abstract class creature and two subclasses mamals and fishes. Also write two subclasses for each of the previous subclasses. For fishes: sharks, carp. For mamals: human, apes.\n",
    "Think, what could they have in common and implement them in an appropiate way."
   ]
  },
  {
   "cell_type": "code",
   "execution_count": null,
   "metadata": {
    "collapsed": true
   },
   "outputs": [],
   "source": []
  }
 ],
 "metadata": {
  "kernelspec": {
   "display_name": "Python 3",
   "language": "python",
   "name": "python3"
  },
  "language_info": {
   "codemirror_mode": {
    "name": "ipython",
    "version": 3
   },
   "file_extension": ".py",
   "mimetype": "text/x-python",
   "name": "python",
   "nbconvert_exporter": "python",
   "pygments_lexer": "ipython3",
   "version": "3.6.0"
  }
 },
 "nbformat": 4,
 "nbformat_minor": 2
}
