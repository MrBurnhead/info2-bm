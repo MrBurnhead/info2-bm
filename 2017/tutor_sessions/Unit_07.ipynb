{
 "cells": [
  {
   "cell_type": "markdown",
   "metadata": {},
   "source": [
    "<div align=\"center\">\n",
    "  <h1>Classification Problems</h1>\n",
    "  \"Does an object belong to a set or not.\"\n",
    "</div>"
   ]
  },
  {
   "cell_type": "code",
   "execution_count": 38,
   "metadata": {},
   "outputs": [
    {
     "data": {
      "text/html": [
       "<img src=\"http://scikit-learn.org/stable/_images/sphx_glr_plot_classification_0011.png\" width=\"500\"/>"
      ],
      "text/plain": [
       "<IPython.core.display.Image object>"
      ]
     },
     "execution_count": 38,
     "metadata": {},
     "output_type": "execute_result"
    }
   ],
   "source": [
    "from IPython.display import Image\n",
    "from IPython.core.display import HTML \n",
    "Image(url= \"http://scikit-learn.org/stable/_images/sphx_glr_plot_classification_0011.png\", width=500)"
   ]
  },
  {
   "cell_type": "markdown",
   "metadata": {},
   "source": [
    "## 1 Useful Algorithms"
   ]
  },
  {
   "cell_type": "markdown",
   "metadata": {},
   "source": [
    "### KNN\n",
    "\n",
    "This algorithm predicts class-membership of a point by looking at its k nearest neighbors and assigning the class of the majority of the neighboring points (uniform weighting) or the class resulting after weighting the neighboring point classes with the distances.\n",
    "\n",
    "sklearn.neighbors.KNeighborsClassifier(n_neighbors=5, weights='uniform', algorithm='auto', leaf_size=30, p=2, metric='minkowski', metric_params=None, n_jobs=1, **kwargs)\n",
    "\n",
    "**n_neighbors** ... default is 5 <br>\n",
    "**weights** ... 'uniform' or 'distance', default is ‘uniform’ (= all points in each neighborhood are weighted equally) <br>\n",
    "**algorithm** ... ‘auto’, ‘ball_tree’, ‘kd_tree’, ‘brute’, default is 'auto' <br>\n",
    "**leaf_size** ... default is 30 <br>\n",
    "**metric** ... chosen distance metric, default is ‘minkowski’) <br>\n",
    "**p** ... power parameter for Minkowski metric, default is 2 (euclidean distance) <br>\n",
    "**metric_params** ... additional keyword arguments for the metric function, default is None <br>\n",
    "**n_jobs** ... number of parallel jobs to run, does not affect fit method. Default is 1\n",
    "\n",
    "#### Useful Functions\n",
    "\n",
    "fit(X,y) <br>\n",
    "kneighbors(X=None, n_neighbors=None, return_distance=True) <br> \n",
    "kneighbors_graph(X=None, n_neighbors=None, mode='connectivity') <br>\n",
    "predict(X) <br>\n",
    "predict_proba(X) <br>\n",
    "score(X, y, sample_weight=None)\n",
    "\n",
    "http://scikit-learn.org/stable/modules/neighbors.html#classification <br>\n",
    "http://scikit-learn.org/stable/modules/generated/sklearn.neighbors.KNeighborsClassifier.html"
   ]
  },
  {
   "cell_type": "code",
   "execution_count": 39,
   "metadata": {},
   "outputs": [
    {
     "name": "stdout",
     "output_type": "stream",
     "text": [
      "[0]\n",
      "[[ 0.66666667  0.33333333]]\n"
     ]
    }
   ],
   "source": [
    "from sklearn.neighbors import KNeighborsClassifier\n",
    "\n",
    "X = [[0], [1], [2], [3]]\n",
    "y = [0, 0, 1, 1]\n",
    "\n",
    "n = KNeighborsClassifier(n_neighbors=3)\n",
    "n.fit(X, y)\n",
    "\n",
    "print(n.predict([[1.1]]))\n",
    "print(n.predict_proba([[0.9]]))"
   ]
  },
  {
   "cell_type": "markdown",
   "metadata": {},
   "source": [
    "### K-Fold\n",
    "\n",
    "This algorithm is used for cross-validation. It provides train/test indices to split data in train/test sets. Split dataset into k consecutive folds.\n",
    "\n",
    "Each fold is then used once as a validation while the k - 1 remaining folds form the training set.\n",
    "\n",
    "sklearn.model_selection.KFold(n_splits=3, shuffle=False, random_state=None)\n",
    "\n",
    "**n_splits** ... number of folds, must be >= 2, default is 3 <br>\n",
    "**shuffle** ... shuffle data before splitting, optional, default is False <br>\n",
    "**random_state** ... pseudo-random number generator state used for shuffling, if None, default numpy RNG is used. None, int or RandomState\n",
    "\n",
    "#### Useful Functions\n",
    "\n",
    "get_n_splits(X=None, y=None, groups=None)<br>\n",
    "split(X, y=None, groups=None)\n",
    "\n",
    "http://scikit-learn.org/stable/modules/generated/sklearn.model_selection.KFold.html"
   ]
  },
  {
   "cell_type": "code",
   "execution_count": 41,
   "metadata": {},
   "outputs": [
    {
     "name": "stdout",
     "output_type": "stream",
     "text": [
      "TRAIN: [2 3] TEST: [0 1]\n",
      "TRAIN: [0 1] TEST: [2 3]\n"
     ]
    }
   ],
   "source": [
    "from sklearn.model_selection import KFold\n",
    "import numpy as np\n",
    "\n",
    "X = np.array([[5, 6], [7, 8], [5, 6], [7, 8]])\n",
    "y = np.array([5, 6, 7, 8])\n",
    "kf = KFold(n_splits=2)\n",
    "\n",
    "for train_index, test_index in kf.split(X):\n",
    "    print(\"TRAIN:\", train_index, \"TEST:\", test_index)\n",
    "    X_train, X_test = X[train_index], X[test_index]\n",
    "    y_train, y_test = y[train_index], y[test_index]"
   ]
  },
  {
   "cell_type": "markdown",
   "metadata": {},
   "source": [
    "## 2 Important Functions"
   ]
  },
  {
   "cell_type": "markdown",
   "metadata": {},
   "source": [
    "### Precision\n",
    "\n",
    "pr = tp / (tp + fp)\n",
    "                                \n",
    "tp ... number of true positives <br>\n",
    "tp ... number of false positives.\n",
    "\n",
    "sklearn.metrics.precision_score(y_true, y_pred, labels=None, pos_label=1, average='binary', sample_weight=None)\n",
    "\n",
    "**y_true** ... correct target values <br>\n",
    "**y_pred** ... predicted target values <br>\n",
    "**labels** ... optional <br>\n",
    "**pos_label** ... string or binary, 1 by default <br>\n",
    "**average** ... None, 'binary' (default), 'micro', 'macro', 'samples', 'weighted' <br>\n",
    "**sample_weight** ... optional\n",
    "\n",
    "http://scikit-learn.org/stable/modules/generated/sklearn.metrics.precision_score.html\n"
   ]
  },
  {
   "cell_type": "code",
   "execution_count": 21,
   "metadata": {},
   "outputs": [
    {
     "name": "stdout",
     "output_type": "stream",
     "text": [
      "[ 0.66666667  0.          0.        ]\n",
      "0.222222222222\n",
      "0.333333333333\n"
     ]
    }
   ],
   "source": [
    "from sklearn.metrics import precision_score\n",
    "\n",
    "y_true = [0, 1, 2, 0, 1, 2]\n",
    "y_pred = [0, 2, 1, 0, 0, 1]\n",
    "\n",
    "print(precision_score(y_true, y_pred, average=None))\n",
    "print(precision_score(y_true, y_pred, average='weighted'))\n",
    "print(precision_score(y_true, y_pred, average='micro'))\n",
    "# print(precision_score(y_true, y_pred)) # error because input is multiclass"
   ]
  },
  {
   "cell_type": "markdown",
   "metadata": {},
   "source": [
    "### Recall\n",
    "\n",
    "re = tp / (tp + fn)\n",
    "\n",
    "tp ... number of true positives <br>\n",
    "fn ... number of false negatives\n",
    "\n",
    "sklearn.metrics.recall_score(y_true, y_pred, labels=None, pos_label=1, average='binary', sample_weight=None)\n",
    "\n",
    "**y_true** ... correct target values <br>\n",
    "**y_pred** ... predicted target values <br>\n",
    "**labels** ... optional <br>\n",
    "**pos_label** ... string or binary, 1 by default <br>\n",
    "**average** ... None, 'binary' (default), 'micro', 'macro', 'samples', 'weighted' <br>\n",
    "**sample_weight** ... optional\n",
    "\n",
    "http://scikit-learn.org/stable/modules/generated/sklearn.metrics.recall_score.html"
   ]
  },
  {
   "cell_type": "code",
   "execution_count": 22,
   "metadata": {},
   "outputs": [
    {
     "name": "stdout",
     "output_type": "stream",
     "text": [
      "[ 1.  0.  0.]\n",
      "0.333333333333\n",
      "0.333333333333\n"
     ]
    }
   ],
   "source": [
    "from sklearn.metrics import recall_score\n",
    "\n",
    "y_true = [0, 1, 2, 0, 1, 2]\n",
    "y_pred = [0, 2, 1, 0, 0, 1]\n",
    "\n",
    "print(recall_score(y_true, y_pred, average=None))\n",
    "print(recall_score(y_true, y_pred, average='weighted'))\n",
    "print(recall_score(y_true, y_pred, average='micro'))\n",
    "# print(recall_score(y_true, y_pred)) # error because input is multiclass"
   ]
  },
  {
   "cell_type": "markdown",
   "metadata": {},
   "source": [
    "### F1 scores\n",
    "\n",
    "F1 = 2 \\* (precision \\* recall) / (precision + recall)\n",
    "\n",
    "sklearn.metrics.f1_score(y_true, y_pred, labels=None, pos_label=1, average='binary', sample_weight=None)\n",
    "\n",
    "**y_true** ... correct target values <br>\n",
    "**y_pred** ... predicted target values <br>\n",
    "**labels** ... optional <br>\n",
    "**pos_label** ... string or binary, 1 by default <br>\n",
    "**average** ... None, 'binary' (default), 'micro', 'macro', 'samples', 'weighted' <br>\n",
    "**sample_weight** ... optional\n",
    "\n",
    "http://scikit-learn.org/stable/modules/generated/sklearn.metrics.f1_score.html"
   ]
  },
  {
   "cell_type": "code",
   "execution_count": 79,
   "metadata": {},
   "outputs": [
    {
     "name": "stdout",
     "output_type": "stream",
     "text": [
      "[ 0.8  0.   0. ]\n",
      "0.266666666667\n",
      "0.333333333333\n"
     ]
    }
   ],
   "source": [
    "from sklearn.metrics import f1_score\n",
    "\n",
    "y_true = [0, 1, 2, 0, 1, 2]\n",
    "y_pred = [0, 2, 1, 0, 0, 1]\n",
    "\n",
    "print(f1_score(y_true, y_pred, average=None))\n",
    "print(f1_score(y_true, y_pred, average='weighted'))\n",
    "print(f1_score(y_true, y_pred, average='micro'))"
   ]
  },
  {
   "cell_type": "markdown",
   "metadata": {},
   "source": [
    "### Classification Report\n",
    "\n",
    "Reports precision, recall and F1 scores.\n",
    "\n",
    "sklearn.metrics.classification_report(y_true, y_pred, labels=None, target_names=None, sample_weight=None, digits=2)\n",
    "\n",
    "**y_true** ... correct target values <br>\n",
    "**y_pred** ... predicted target values <br>\n",
    "**labels** ... optional <br>\n",
    "**target_names** ... optional <br>\n",
    "**sample_weight** ... optional <br>\n",
    "**digits** ... for formatting output\n",
    "\n",
    "http://scikit-learn.org/stable/modules/generated/sklearn.metrics.classification_report.html"
   ]
  },
  {
   "cell_type": "code",
   "execution_count": 24,
   "metadata": {},
   "outputs": [
    {
     "name": "stdout",
     "output_type": "stream",
     "text": [
      "             precision    recall  f1-score   support\n",
      "\n",
      "          0       0.67      1.00      0.80         2\n",
      "          1       0.00      0.00      0.00         2\n",
      "          2       0.00      0.00      0.00         2\n",
      "\n",
      "avg / total       0.22      0.33      0.27         6\n",
      "\n"
     ]
    }
   ],
   "source": [
    "from sklearn.metrics import classification_report\n",
    "\n",
    "y_true = [0, 1, 2, 0, 1, 2]\n",
    "y_pred = [0, 2, 1, 0, 0, 1]\n",
    "\n",
    "print(classification_report(y_true, y_pred))\n",
    "\n",
    "# Note: support is the number of occurrences of each class in y_true."
   ]
  },
  {
   "cell_type": "markdown",
   "metadata": {},
   "source": [
    "## 3 Student Excercise"
   ]
  },
  {
   "cell_type": "markdown",
   "metadata": {},
   "source": [
    "Write a program that uses KFold to split data into a training and a test set.\n",
    "\n",
    "Then use KNN to classify the data into classes.\n",
    "\n",
    "Finally, print the classification report.\n",
    "\n",
    "Hint: To get data, use \"from sklearn import datasets\" and then \"datasets.load_digits()\" or \"datasets.load_iris()\"."
   ]
  },
  {
   "cell_type": "code",
   "execution_count": 78,
   "metadata": {},
   "outputs": [
    {
     "name": "stdout",
     "output_type": "stream",
     "text": [
      "             precision    recall  f1-score   support\n",
      "\n",
      "          0       0.99      1.00      0.99        88\n",
      "          1       0.94      0.98      0.96        91\n",
      "          2       0.98      0.92      0.95        86\n",
      "          3       0.89      0.90      0.90        91\n",
      "          4       1.00      0.92      0.96        92\n",
      "          5       0.96      0.98      0.97        91\n",
      "          6       0.99      1.00      0.99        91\n",
      "          7       0.94      1.00      0.97        89\n",
      "          8       0.97      0.89      0.93        87\n",
      "          9       0.89      0.93      0.91        92\n",
      "\n",
      "avg / total       0.95      0.95      0.95       898\n",
      "\n",
      "0.952115812918\n"
     ]
    }
   ],
   "source": [
    "import numpy as np\n",
    "from sklearn.model_selection import KFold\n",
    "from sklearn.neighbors import KNeighborsClassifier\n",
    "from sklearn.metrics import classification_report\n",
    "from sklearn import datasets\n",
    "\n",
    "data = datasets.load_digits()\n",
    "X = data.data\n",
    "y = data.target\n",
    "np.unique(y)\n",
    "\n",
    "kf = KFold(n_splits=2)\n",
    "\n",
    "for train_index, test_index in kf.split(X):\n",
    "    X_train, X_test = X[train_index], X[test_index]\n",
    "    y_train, y_test = y[train_index], y[test_index]\n",
    "\n",
    "n = KNeighborsClassifier(n_neighbors=7)\n",
    "n.fit(X_train, y_train)\n",
    "score = n.score(X_test, y_test)\n",
    "pred = n.predict(X_test)\n",
    "\n",
    "print(classification_report(y_test, pred))\n",
    "print(score)\n"
   ]
  },
  {
   "cell_type": "markdown",
   "metadata": {},
   "source": [
    "### More Helpful Resources:\n",
    "\n",
    "http://scikit-learn.org/stable/tutorial/statistical_inference/supervised_learning.html <br>\n",
    "https://kevinzakka.github.io/2016/07/13/k-nearest-neighbor/"
   ]
  },
  {
   "cell_type": "code",
   "execution_count": null,
   "metadata": {
    "collapsed": true
   },
   "outputs": [],
   "source": []
  }
 ],
 "metadata": {
  "kernelspec": {
   "display_name": "Python 3",
   "language": "python",
   "name": "python3"
  },
  "language_info": {
   "codemirror_mode": {
    "name": "ipython",
    "version": 3
   },
   "file_extension": ".py",
   "mimetype": "text/x-python",
   "name": "python",
   "nbconvert_exporter": "python",
   "pygments_lexer": "ipython3",
   "version": "3.6.1"
  }
 },
 "nbformat": 4,
 "nbformat_minor": 2
}
