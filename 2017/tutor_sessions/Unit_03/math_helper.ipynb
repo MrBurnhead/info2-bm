{
 "cells": [
  {
   "cell_type": "code",
   "execution_count": 8,
   "metadata": {
    "collapsed": true
   },
   "outputs": [],
   "source": [
    "\"\"\"This package is a basic example of how to use modules\n",
    "\n",
    "Here comes the long text\n",
    "\"\"\"\n",
    "def factorial(n): \n",
    "    result = 1\n",
    "    for i in range(2, n+1): result *= i\n",
    "    return result\n",
    "\n",
    "\n",
    "print(\"This line will be executed when imported\")\n",
    "\n",
    "\n",
    "if __name__ == \"__main__\":\n",
    "    print(\"This code will not be executed when imported.\")\n",
    "    print(\"Only when called as an Application!\")"
   ]
  }
 ],
 "metadata": {
  "kernelspec": {
   "display_name": "Python [conda root]",
   "language": "python",
   "name": "conda-root-py"
  },
  "language_info": {
   "codemirror_mode": {
    "name": "ipython",
    "version": 3
   },
   "file_extension": ".py",
   "mimetype": "text/x-python",
   "name": "python",
   "nbconvert_exporter": "python",
   "pygments_lexer": "ipython3",
   "version": "3.5.2"
  }
 },
 "nbformat": 4,
 "nbformat_minor": 1
}
