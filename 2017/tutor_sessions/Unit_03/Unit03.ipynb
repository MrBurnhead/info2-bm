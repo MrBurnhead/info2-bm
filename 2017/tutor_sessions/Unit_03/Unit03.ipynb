{
 "cells": [
  {
   "cell_type": "code",
   "execution_count": 1,
   "metadata": {
    "collapsed": true
   },
   "outputs": [],
   "source": [
    "#preamble to allow the import of notebooks\n",
    "from notebook_loader import *"
   ]
  },
  {
   "cell_type": "markdown",
   "metadata": {},
   "source": [
    "# Creating and Documenting Packages\n",
    "\n",
    "## Modularisation\n",
    "\n",
    "Modularisation describes the seperation of the source codes into modules. This modules can then be imported into python programs to extend it's functionality. There are two types of modules:\n",
    "\n",
    "* Global modules <br>\n",
    "    System wide availability. Many modules already available at [pypi.python.org](https://pypi.python.org/pypi)\n",
    "\n",
    "* local modules <br>\n",
    "    Encapsulation of local code parts to provide clarity\n",
    "    \n",
    "They only differ in the **stored path**, and therefore in the availability to the program\n",
    "\n",
    "### Import Modules\n",
    "Modules can be imported using the import syntax. As an example, the math library will be used. Imports will be done before writing any code to provide readability"
   ]
  },
  {
   "cell_type": "code",
   "execution_count": 2,
   "metadata": {
    "collapsed": false
   },
   "outputs": [
    {
     "name": "stdout",
     "output_type": "stream",
     "text": [
      "3.141592653589793\n"
     ]
    }
   ],
   "source": [
    "#Import one library\n",
    "import math\n",
    "\n",
    "#Import two libraries\n",
    "import math, random\n",
    "\n",
    "#Libraries can be aliased if needed\n",
    "import math as mathematics\n",
    "\n",
    "#Now, the math library can be used\n",
    "print(math.pi)"
   ]
  },
  {
   "cell_type": "markdown",
   "metadata": {},
   "source": [
    "Using the above import statements, the namespace will be imported. It is also possible to include the __namespace into the current namespace__."
   ]
  },
  {
   "cell_type": "code",
   "execution_count": 11,
   "metadata": {
    "collapsed": false
   },
   "outputs": [
    {
     "name": "stdout",
     "output_type": "stream",
     "text": [
      "3.141592653589793\n"
     ]
    }
   ],
   "source": [
    "pi = 1234\n",
    "\n",
    "#Now, the program namespace and the math namespace will be combined\n",
    "from math import sin,pi #* is also possible, but has risks\n",
    "\n",
    "#Pi can now be called directly\n",
    "print(pi)"
   ]
  },
  {
   "cell_type": "markdown",
   "metadata": {},
   "source": [
    "As seen, the pi variable will be overwritten, because it is also defined in the math namespace\n",
    "\n",
    "**It is recomended to create a namespace for each module**\n",
    "\n",
    "## Creating Modules\n",
    "\n",
    "Modules can be created by simply creating files. Each file can than be imported."
   ]
  },
  {
   "cell_type": "markdown",
   "metadata": {},
   "source": [
    "__Contents of math_helper.py__:\n",
    "```python\n",
    "def factorial(n): \n",
    "    result = 1\n",
    "    for i in range(2, n+1): result *= i\n",
    "    return result\n",
    "\n",
    "\n",
    "print(\"This line will be executed when imported\")\n",
    "\n",
    "\n",
    "if __name__ == \"__main__\":\n",
    "    print(\"This code will not be executed when imported.\")\n",
    "    print(\"Only when called as an Application!\")\n",
    "```"
   ]
  },
  {
   "cell_type": "code",
   "execution_count": 4,
   "metadata": {
    "collapsed": false
   },
   "outputs": [
    {
     "name": "stdout",
     "output_type": "stream",
     "text": [
      "This line will be executed when imported\n",
      "3628800\n"
     ]
    }
   ],
   "source": [
    "import math_helper\n",
    "\n",
    "print(math_helper.factorial(10))"
   ]
  },
  {
   "cell_type": "markdown",
   "metadata": {
    "collapsed": true
   },
   "source": [
    "If packages are imported, all code will be executed!\n",
    "\n",
    "**Solution: pythonic main**"
   ]
  },
  {
   "cell_type": "markdown",
   "metadata": {},
   "source": [
    "## Packages\n",
    "Modules can be combined into packages. Using these packages, a bunch of modules can be imported at once."
   ]
  },
  {
   "cell_type": "markdown",
   "metadata": {},
   "source": [
    "### Directory structure\n",
    "\n",
    "![alt text](tree.png \"directory structure\")\n",
    "\n",
    "__Contents of ____init____.py__:\n",
    "\n",
    "```python\n",
    "__all__ = ['human', 'student']\n",
    "\n",
    "#Using relative Imports\n",
    "from .human import *\n",
    "from .student import *\n",
    "\n",
    "```\n",
    "\n",
    "__Contents of human.py__:\n",
    "```python\n",
    "class Human:\n",
    "    pass\n",
    "```\n",
    "\n",
    "__Contents of student.py__:\n",
    "```python\n",
    "#Only, when you are aware of the imported class structure.\n",
    "from inheritance_example.human import *\n",
    "#Better:\n",
    "#from inheritance_example.human import human,student\n",
    "class Student():\n",
    "    pass\n",
    "```"
   ]
  },
  {
   "cell_type": "code",
   "execution_count": 5,
   "metadata": {
    "collapsed": false
   },
   "outputs": [
    {
     "name": "stdout",
     "output_type": "stream",
     "text": [
      "<inheritance_example.student.Student object at 0x104b5c828>\n"
     ]
    }
   ],
   "source": [
    "import inheritance_example as inheritance\n",
    "\n",
    "s = inheritance.Student()\n",
    "\n",
    "print(s)"
   ]
  },
  {
   "cell_type": "code",
   "execution_count": 12,
   "metadata": {
    "collapsed": false
   },
   "outputs": [
    {
     "name": "stdout",
     "output_type": "stream",
     "text": [
      "<inheritance_example.student.Student object at 0x104b69be0>\n"
     ]
    }
   ],
   "source": [
    "#only use * when you are absolutely sure what you are doing. Better: Write Class Names\n",
    "from inheritance_example import Student,Human\n",
    "\n",
    "s = student.Student()\n",
    "print(s)"
   ]
  },
  {
   "cell_type": "markdown",
   "metadata": {},
   "source": [
    "# Python Docstrings\n",
    "Good documentation is essential if working in teams. Python has built in docstrings which cover this topic\n",
    "\n",
    "## functions"
   ]
  },
  {
   "cell_type": "code",
   "execution_count": 7,
   "metadata": {
    "collapsed": true
   },
   "outputs": [],
   "source": [
    "def factorial(n): \n",
    "    \"\"\"Calculates the factorial of a given number\n",
    "    \n",
    "    Keyword arguments:\n",
    "    n -- the given number\n",
    "    \n",
    "    The factorial will be calculated using n! = n * (n-1) * (n-2) * ...\n",
    "    \"\"\"\n",
    "    result = 1\n",
    "    for i in range(2, n+1): result *= i\n",
    "    return result"
   ]
  },
  {
   "cell_type": "markdown",
   "metadata": {},
   "source": [
    "this docstrings can also be viewed with the help function"
   ]
  },
  {
   "cell_type": "code",
   "execution_count": 8,
   "metadata": {
    "collapsed": false
   },
   "outputs": [
    {
     "name": "stdout",
     "output_type": "stream",
     "text": [
      "Help on function factorial in module __main__:\n",
      "\n",
      "factorial(n)\n",
      "    Calculates the factorial of a given number\n",
      "    \n",
      "    Keyword arguments:\n",
      "    n -- the given number\n",
      "    \n",
      "    The factorial will be calculated using n! = n * (n-1) * (n-2) * ...\n",
      "\n"
     ]
    }
   ],
   "source": [
    "help(factorial)"
   ]
  },
  {
   "cell_type": "markdown",
   "metadata": {},
   "source": [
    "## Classes\n",
    "\n",
    "Classes are also documented using python docstrings."
   ]
  },
  {
   "cell_type": "code",
   "execution_count": 9,
   "metadata": {
    "collapsed": true
   },
   "outputs": [],
   "source": [
    "class Test:\n",
    "    \"\"\"\n",
    "    This is a testing class\n",
    "    \n",
    "    This example should be used to show how docstrings can be used\n",
    "    \"\"\"\n",
    "    pass"
   ]
  },
  {
   "cell_type": "markdown",
   "metadata": {},
   "source": [
    "## packages\n",
    "The same with packages:\n",
    "\n",
    "__Contents of ____init____.py__:\n",
    "\n",
    "```python\n",
    "\"\"\"\n",
    "This is a testing package to show the usage\n",
    "\n",
    "This is a longer text desribing the uses of this package\n",
    "\"\"\"\n",
    "__all__ = ['file1', 'file2']\n",
    "\n",
    "#Only use import * when you are absolutely sure what you are doing\n",
    "from .file1 import *\n",
    "from .file2 import *\n",
    "\n",
    "```"
   ]
  },
  {
   "cell_type": "markdown",
   "metadata": {},
   "source": [
    "## Example 1:\n",
    "Create a new package called __\"student_manager\"__. It should be able to read Student data with a abstract class __\"StudentParser\"__. Realise this Parser in two classes named __\"CSVParser\"__ and __\"StaticParser\"__. The read student data dictionary should be wrapped inside a class called __\"StudentData\"__.\n",
    "\n",
    "This should be implemented using the following class diagram:\n",
    "\n",
    "![alt text](class_diagram.png \"class diagram\")\n",
    "\n",
    "http://yuml.me/edit/4352b2e9"
   ]
  },
  {
   "cell_type": "code",
   "execution_count": 10,
   "metadata": {
    "collapsed": false
   },
   "outputs": [
    {
     "name": "stdout",
     "output_type": "stream",
     "text": [
      "None\n",
      "{'1331057': ('1331057', 'Max Mustermann', 'TU Graz')}\n",
      "('1331057', 'Max Mustermann', 'TU Graz')\n",
      "('1331057', 'Max Mustermann', 'TU Graz')\n",
      "{'1234124', ('1234124', 'Julia Musterfrau', 'KFU GRAZ')}\n"
     ]
    }
   ],
   "source": [
    "import student_manager\n",
    "manager = student_manager.StudentManager(\"csv\")\n",
    "\n",
    "print(manager.parser.students)\n",
    "manager.read_data(\"students.csv\")\n",
    "\n",
    "print(manager.parser.students.data)\n",
    "print(manager.parser.students.get_student_by_matriclenumber('1331057'))\n",
    "#or\n",
    "print(manager.students.get_student_by_matriclenumber('1331057'))\n",
    "\n",
    "staticmanager = student_manager.StudentManager(\"static\")\n",
    "staticmanager.read_data()\n",
    "print(staticmanager.students.data)"
   ]
  },
  {
   "cell_type": "markdown",
   "metadata": {},
   "source": [
    "# Questions regarding Assignment 1?\n",
    "or"
   ]
  },
  {
   "cell_type": "markdown",
   "metadata": {},
   "source": [
    "## Example 2:\n",
    "Create a new package called __\"accounting\"__. This package should feature a class __account__ which holds a credit information. Then, make a new method called __transfer(self,accountB,amount)__ where you can move money from one account to another. Use them in your main application. Document the package, the class and the methods."
   ]
  }
 ],
 "metadata": {
  "anaconda-cloud": {},
  "kernelspec": {
   "display_name": "Python [conda root]",
   "language": "python",
   "name": "conda-root-py"
  },
  "language_info": {
   "codemirror_mode": {
    "name": "ipython",
    "version": 3
   },
   "file_extension": ".py",
   "mimetype": "text/x-python",
   "name": "python",
   "nbconvert_exporter": "python",
   "pygments_lexer": "ipython3",
   "version": "3.5.2"
  }
 },
 "nbformat": 4,
 "nbformat_minor": 1
}
