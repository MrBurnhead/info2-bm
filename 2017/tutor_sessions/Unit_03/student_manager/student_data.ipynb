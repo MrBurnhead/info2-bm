{
 "cells": [
  {
   "cell_type": "code",
   "execution_count": null,
   "metadata": {
    "collapsed": true
   },
   "outputs": [],
   "source": [
    "class StudentData:\n",
    "    \"\"\"Provides convinient access methods\n",
    "    \n",
    "    \"\"\"\n",
    "    def __init__(self,students):\n",
    "        self._students = students\n",
    "    @property\n",
    "    def data(self):\n",
    "        return self._students\n",
    "    \n",
    "    def get_student_by_matriclenumber(self,matriclenumber):\n",
    "        return self._students[matriclenumber]"
   ]
  }
 ],
 "metadata": {
  "anaconda-cloud": {},
  "kernelspec": {
   "display_name": "Python [conda root]",
   "language": "python",
   "name": "conda-root-py"
  },
  "language_info": {
   "codemirror_mode": {
    "name": "ipython",
    "version": 3
   },
   "file_extension": ".py",
   "mimetype": "text/x-python",
   "name": "python",
   "nbconvert_exporter": "python",
   "pygments_lexer": "ipython3",
   "version": "3.5.2"
  }
 },
 "nbformat": 4,
 "nbformat_minor": 1
}
