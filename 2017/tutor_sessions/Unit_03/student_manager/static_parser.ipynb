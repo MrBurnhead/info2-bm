{
 "cells": [
  {
   "cell_type": "code",
   "execution_count": null,
   "metadata": {
    "collapsed": true
   },
   "outputs": [],
   "source": [
    "from .student_parser import StudentParser\n",
    "from .student_data import StudentData\n",
    "\n",
    "class StaticParser(StudentParser):\n",
    "    \"\"\"A static data provider class\n",
    "    \n",
    "    Mainly for testing purposes\n",
    "    \"\"\"\n",
    "    def read_data(self,options=\"\"):\n",
    "        student_dict = {\"1234124\",(\"1234124\",\"Julia Musterfrau\",\"KFU GRAZ\")}\n",
    "        self._student_data = StudentData(student_dict)\n",
    "        return True"
   ]
  }
 ],
 "metadata": {
  "anaconda-cloud": {},
  "kernelspec": {
   "display_name": "Python [conda root]",
   "language": "python",
   "name": "conda-root-py"
  },
  "language_info": {
   "codemirror_mode": {
    "name": "ipython",
    "version": 3
   },
   "file_extension": ".py",
   "mimetype": "text/x-python",
   "name": "python",
   "nbconvert_exporter": "python",
   "pygments_lexer": "ipython3",
   "version": "3.5.2"
  }
 },
 "nbformat": 4,
 "nbformat_minor": 1
}
