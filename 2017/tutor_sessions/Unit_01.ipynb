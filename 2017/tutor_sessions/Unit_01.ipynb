{
 "cells": [
  {
   "cell_type": "markdown",
   "metadata": {},
   "source": [
    "# Unit 01: Object Oriented Programming\n",
    "\n",
    "## Topics\n",
    "\n",
    "* Basics of OOP\n",
    "    * Classes\n",
    "    * Objects\n",
    "    * Methods\n",
    "    * Inheritance\n",
    "* Creating a Class\n",
    "* Getter and setter\n",
    "* Creating an Instance\n",
    "* Excercises"
   ]
  },
  {
   "cell_type": "markdown",
   "metadata": {},
   "source": [
    "## Basics of OOP\n",
    "\n",
    "A class ...\n",
    "* ... defines how its objects will be built\n",
    "* ... has methods and variables\n",
    "\n",
    "An object ...\n",
    "* ... contains real values (unlike the class)\n",
    "* ... is an instance of a class\n",
    "\n",
    "Like a blueprint or recipe (class) and an actual building or a cake (object)."
   ]
  },
  {
   "cell_type": "markdown",
   "metadata": {},
   "source": [
    "## Methods and Inheritance\n",
    "\n",
    "A method ...\n",
    "* ... is part of a class\n",
    "* ... of a class will be included in all of its objects\n",
    "\n",
    "E.g. a car class/object could have a drive method.\n",
    "\n",
    "Inheritance is when one class gives characteristics to a class that is derived from it.\n",
    "\n",
    "There could be a Mammal class. We then could define a Human or Ape class by subclassing Mammal and would inherit all methods and variables from Mammal."
   ]
  },
  {
   "cell_type": "markdown",
   "metadata": {},
   "source": [
    "## Creating a Class"
   ]
  },
  {
   "cell_type": "code",
   "execution_count": 15,
   "metadata": {
    "collapsed": false
   },
   "outputs": [
    {
     "name": "stdout",
     "output_type": "stream",
     "text": [
      "asdf\n"
     ]
    }
   ],
   "source": [
    "class FirstClass:\n",
    "    # variable bound to the class itself\n",
    "    instances = 0\n",
    "    \n",
    "    def __init__(self, letters):\n",
    "        self._letters = letters # variable bound to the object (mind the 'self')\n",
    "        FirstClass.instances += 1\n",
    "\n",
    "    def getLetters(self):\n",
    "        return self._letters\n",
    "    \n",
    "a = FirstClass(\"asdf\")\n",
    "print(a.getLetters())"
   ]
  },
  {
   "cell_type": "markdown",
   "metadata": {},
   "source": [
    "## Getter and Setter\n",
    "\n",
    "https://docs.python.org/3/library/functions.html#property\n",
    "\n",
    "* Getter: @property\n",
    "* Setter: @x.setter\n",
    "* Deleter: @x.deleter\n",
    "\n",
    "'x' stands for the member variable.\n",
    "\n",
    "Use an '_' in front of the variable to mark it as private (Python doesn't restrict its access). E.g. _speed"
   ]
  },
  {
   "cell_type": "code",
   "execution_count": 12,
   "metadata": {
    "collapsed": true
   },
   "outputs": [],
   "source": [
    "class SecondClass:\n",
    "    _instances = 0\n",
    "    \n",
    "    def __init__(self, letters):\n",
    "        self._letters = letters\n",
    "        SecondClass._instances += 1\n",
    "    \n",
    "    @property\n",
    "    def instances(self):\n",
    "        return self._instances\n",
    "        \n",
    "    @property\n",
    "    def letters(self):\n",
    "        return self._letters\n",
    "    \n",
    "    @letters.setter\n",
    "    def letters(self, newletters):\n",
    "        self._letters = newletters\n",
    "        \n",
    "    @letters.deleter\n",
    "    def letters(self):\n",
    "        del self._letters"
   ]
  },
  {
   "cell_type": "markdown",
   "metadata": {},
   "source": [
    "## Create an Instance"
   ]
  },
  {
   "cell_type": "code",
   "execution_count": 13,
   "metadata": {
    "collapsed": false
   },
   "outputs": [
    {
     "name": "stdout",
     "output_type": "stream",
     "text": [
      "Test1\n",
      "Test3\n"
     ]
    }
   ],
   "source": [
    "classinst1 = SecondClass(\"Test1\")\n",
    "\n",
    "astring = \"Test2\"\n",
    "classinst2 = SecondClass(astring)\n",
    "\n",
    "print(classinst1.letters)\n",
    "\n",
    "classinst1.letters = \"Test3\"\n",
    "print(classinst1.letters)\n",
    "\n",
    "del(classinst1.letters)\n",
    "# print(classinst1.letters)  # What would this print?"
   ]
  },
  {
   "cell_type": "markdown",
   "metadata": {},
   "source": [
    "What does this print?"
   ]
  },
  {
   "cell_type": "code",
   "execution_count": 14,
   "metadata": {
    "collapsed": false
   },
   "outputs": [],
   "source": [
    "#print(classinst2.instances)"
   ]
  },
  {
   "cell_type": "markdown",
   "metadata": {},
   "source": [
    "## Programming example 1\n",
    "\n",
    "* Write a class Vehicle\n",
    "    * On initialization it should take the maximum speed and the number of wheels\n",
    "    * Add a ”drive” function that calculates the km from speed and minutes and returns the result.\n",
    "    * Then add a getter, setter and deleter for kilometres, where the setter adds a km number to the current kilometres.\n",
    "    * Write getters for maximum speed and wheels.\n",
    "* Then write a second class ”Car” that inherits from the class Vehicle\n",
    "    * On initialization  it should sets the number of doors\n",
    "    * Write a getter for the number of doors.\n",
    "* Create an object for each class.\n"
   ]
  },
  {
   "cell_type": "code",
   "execution_count": 25,
   "metadata": {
    "collapsed": false
   },
   "outputs": [
    {
     "name": "stdout",
     "output_type": "stream",
     "text": [
      "thing1 km:  0\n",
      "calc km:  0.3333333333333333\n",
      "thing1 km now:  0.3333333333333333\n",
      "calc km:  120.0\n",
      "thing1 km now:  120.33333333333333\n"
     ]
    }
   ],
   "source": [
    "class Vehicle:\n",
    "    def __init__(self, maxspeed, wheels):\n",
    "        self._kilometres = 0\n",
    "        self._maxspeed = maxspeed\n",
    "        self._wheels = wheels\n",
    "    \n",
    "    def drive(self, speed, minutes):\n",
    "        return speed * (minutes / 60)\n",
    "    \n",
    "    @property\n",
    "    def kilometres(self):\n",
    "        return self._kilometres\n",
    "    \n",
    "    @kilometres.setter\n",
    "    def kilometres(self, km):\n",
    "        self._kilometres = self._kilometres + km\n",
    "        \n",
    "    @kilometres.deleter\n",
    "    def kilometres(self):\n",
    "        del self._kilometres\n",
    "        \n",
    "    @property\n",
    "    def maxspeed(self):\n",
    "        return self._maxspeed\n",
    "    \n",
    "    @property\n",
    "    def wheels(self):\n",
    "        return self._wheels\n",
    "    \n",
    "class Car(Vehicle):\n",
    "    def __init__(self, maxspeed, wheels, doors):\n",
    "        Vehicle.__init__(self, maxspeed, wheels)\n",
    "        self._doors = doors\n",
    "    \n",
    "    @property\n",
    "    def doors(self):\n",
    "        return self._doors\n",
    "\n",
    "thing1 = Car(180, 4, 4)\n",
    "thing2 = Vehicle(80, 2)\n",
    "\n",
    "print(\"thing1 km: \", thing1.kilometres)\n",
    "km = thing1.drive(40, 0.5)\n",
    "print(\"calc km: \", km)\n",
    "thing1.kilometres = km\n",
    "print(\"thing1 km now: \", thing1.kilometres)\n",
    "km = thing1.drive(40, 180)\n",
    "print(\"calc km: \", km)\n",
    "thing1.kilometres = km\n",
    "print(\"thing1 km now: \", thing1.kilometres)"
   ]
  },
  {
   "cell_type": "markdown",
   "metadata": {},
   "source": [
    "## Programming example 2\n",
    "\n",
    "* Write a class ”Pet”\n",
    "    * On initialization set the name of that pet.\n",
    "    * Add a getter for the name.\n",
    "* Then write a second class that inherits from Petwith\n",
    "    * On initialization set the name and a attribute of your choice (e.g. ”Cat” with attribute ”scratches” or ”Dog” with attribute ”drools”, etc.).\n",
    "    * Add a getter and a setter for this attribute.\n",
    "* Create an object for your second class\n",
    "* Print out out the pet’s name and your attribute of choice’s value. (Output example: ”Fido”, 1)\n"
   ]
  },
  {
   "cell_type": "code",
   "execution_count": 16,
   "metadata": {
    "collapsed": false
   },
   "outputs": [
    {
     "name": "stdout",
     "output_type": "stream",
     "text": [
      "Cat 1\n"
     ]
    }
   ],
   "source": [
    "class Pet:\n",
    "    def __init__(self, name):\n",
    "        self._name = name\n",
    "        \n",
    "    @property\n",
    "    def name(self):\n",
    "        return self._name\n",
    "\n",
    "class Cat(Pet):\n",
    "    def __init__(self, name, scratches):\n",
    "        Pet.__init__(self, name)\n",
    "        self._scratches = scratches\n",
    "    \n",
    "    @property\n",
    "    def scratches(self):\n",
    "        return self._scratches\n",
    "    \n",
    "    @scratches.setter\n",
    "    def scratches(self, val):\n",
    "        self._scratches = val\n",
    "\n",
    "animal = Cat(\"Cat\", 1)\n",
    "#animal.scratches = 0\n",
    "\n",
    "print(animal.name, animal.scratches)"
   ]
  },
  {
   "cell_type": "code",
   "execution_count": null,
   "metadata": {
    "collapsed": true
   },
   "outputs": [],
   "source": []
  }
 ],
 "metadata": {
  "kernelspec": {
   "display_name": "Python 3",
   "language": "python",
   "name": "python3"
  },
  "language_info": {
   "codemirror_mode": {
    "name": "ipython",
    "version": 3
   },
   "file_extension": ".py",
   "mimetype": "text/x-python",
   "name": "python",
   "nbconvert_exporter": "python",
   "pygments_lexer": "ipython3",
   "version": "3.5.2"
  }
 },
 "nbformat": 4,
 "nbformat_minor": 2
}
