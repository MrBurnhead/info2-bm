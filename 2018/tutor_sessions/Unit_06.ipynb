{
 "cells": [
  {
   "cell_type": "markdown",
   "metadata": {},
   "source": [
    "# Python Docstrings\n",
    "Good documentation is essential if working in teams. Python has built in docstrings which cover this topic\n",
    "\n",
    "## functions"
   ]
  },
  {
   "cell_type": "code",
   "execution_count": 1,
   "metadata": {
    "collapsed": true
   },
   "outputs": [],
   "source": [
    "def factorial(n): \n",
    "    \"\"\"Calculates the factorial of a given number\n",
    "    \n",
    "    Keyword arguments:\n",
    "    n -- the given number\n",
    "    \n",
    "    The factorial will be calculated using n! = n * (n-1) * (n-2) * ...\n",
    "    \"\"\"\n",
    "    result = 1\n",
    "    for i in range(2, n+1): result *= i\n",
    "    return result"
   ]
  },
  {
   "cell_type": "markdown",
   "metadata": {},
   "source": [
    "this docstrings can also be viewed with the help function"
   ]
  },
  {
   "cell_type": "code",
   "execution_count": 2,
   "metadata": {
    "collapsed": false
   },
   "outputs": [
    {
     "name": "stdout",
     "output_type": "stream",
     "text": [
      "Help on function factorial in module __main__:\n",
      "\n",
      "factorial(n)\n",
      "    Calculates the factorial of a given number\n",
      "    \n",
      "    Keyword arguments:\n",
      "    n -- the given number\n",
      "    \n",
      "    The factorial will be calculated using n! = n * (n-1) * (n-2) * ...\n",
      "\n"
     ]
    }
   ],
   "source": [
    "help(factorial)"
   ]
  },
  {
   "cell_type": "markdown",
   "metadata": {},
   "source": [
    "## Classes\n",
    "\n",
    "Classes are also documented using python docstrings."
   ]
  },
  {
   "cell_type": "code",
   "execution_count": 3,
   "metadata": {
    "collapsed": true
   },
   "outputs": [],
   "source": [
    "class Test:\n",
    "    \"\"\"\n",
    "    This is a testing class\n",
    "    \n",
    "    This example should be used to show how docstrings can be used\n",
    "    \"\"\"\n",
    "    pass"
   ]
  },
  {
   "cell_type": "code",
   "execution_count": 4,
   "metadata": {
    "collapsed": false
   },
   "outputs": [
    {
     "name": "stdout",
     "output_type": "stream",
     "text": [
      "Help on class Test in module __main__:\n",
      "\n",
      "class Test(builtins.object)\n",
      " |  This is a testing class\n",
      " |  \n",
      " |  This example should be used to show how docstrings can be used\n",
      " |  \n",
      " |  Data descriptors defined here:\n",
      " |  \n",
      " |  __dict__\n",
      " |      dictionary for instance variables (if defined)\n",
      " |  \n",
      " |  __weakref__\n",
      " |      list of weak references to the object (if defined)\n",
      "\n"
     ]
    }
   ],
   "source": [
    "help(Test)"
   ]
  },
  {
   "cell_type": "markdown",
   "metadata": {},
   "source": [
    "## packages\n",
    "The same with packages:\n",
    "\n",
    "__Contents of ____init____.py__:\n",
    "\n",
    "```python\n",
    "\"\"\"\n",
    "This is a testing package to show the usage\n",
    "\n",
    "This is a longer text desribing the uses of this package\n",
    "\"\"\"\n",
    "__all__ = ['file1', 'file2']\n",
    "\n",
    "#Only use import * when you are absolutely sure what you are doing\n",
    "from .file1 import *\n",
    "from .file2 import *\n",
    "\n",
    "```"
   ]
  },
  {
   "cell_type": "code",
   "execution_count": null,
   "metadata": {
    "collapsed": true
   },
   "outputs": [],
   "source": []
  }
 ],
 "metadata": {
  "kernelspec": {
   "display_name": "Python 3",
   "language": "python",
   "name": "python3"
  },
  "language_info": {
   "codemirror_mode": {
    "name": "ipython",
    "version": 3
   },
   "file_extension": ".py",
   "mimetype": "text/x-python",
   "name": "python",
   "nbconvert_exporter": "python",
   "pygments_lexer": "ipython3",
   "version": "3.6.0"
  }
 },
 "nbformat": 4,
 "nbformat_minor": 2
}
