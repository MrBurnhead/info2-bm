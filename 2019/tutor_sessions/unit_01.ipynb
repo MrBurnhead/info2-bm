{
 "cells": [
  {
   "cell_type": "markdown",
   "metadata": {},
   "source": [
    "# Unit 01: Classes"
   ]
  },
  {
   "cell_type": "markdown",
   "metadata": {},
   "source": [
    "Classes provide a means of bundling data and functionality together. They specify how a new type of _object_ will be built. They can contain two types of members:\n",
    "* attributes (variables), which hold data\n",
    "* methods (functions), which modify that data or use it for something else\n",
    "Concrete instances of classes are called _objects_ and contain real values in their attributes, specifying their state."
   ]
  },
  {
   "cell_type": "markdown",
   "metadata": {},
   "source": [
    "In python, a class is defined like this:\n",
    "```python\n",
    "class ClassName:\n",
    "    # statement 1\n",
    "    # .\n",
    "    # .\n",
    "    # .\n",
    "    # statement N\n",
    "```"
   ]
  },
  {
   "cell_type": "markdown",
   "metadata": {},
   "source": [
    "As an example, we will create a 'Person'-class, adding data and functionality along the way."
   ]
  },
  {
   "cell_type": "code",
   "execution_count": 166,
   "metadata": {},
   "outputs": [],
   "source": [
    "class Person:\n",
    "    pass"
   ]
  },
  {
   "cell_type": "markdown",
   "metadata": {},
   "source": [
    "Members of classes can be accesses using dot-notation, like this:\n",
    "```python\n",
    "ClassName.member_name\n",
    "```"
   ]
  },
  {
   "cell_type": "code",
   "execution_count": 167,
   "metadata": {},
   "outputs": [
    {
     "name": "stdout",
     "output_type": "stream",
     "text": [
      "Homo Sapiens\n"
     ]
    }
   ],
   "source": [
    "class Person:\n",
    "    species = \"Homo Sapiens\"\n",
    "\n",
    "print(Person.species)"
   ]
  },
  {
   "cell_type": "markdown",
   "metadata": {},
   "source": [
    "When you create an instance of a class, its _constructor_ gets executed. This method called \"\\_\\_new\\_\\_\" does not have to be defined with the class as it is created automatically. It returns a new _instance_ of the class and calls an initializiation-method named \"\\_\\_init\\_\\_\" on this instance. This init-method is empty by default, but can be used f.ex. to set some of the classes attributes.  \n",
    "\n",
    "New objects or instances of a class are created like this:\n",
    "```python\n",
    "object_name = ClassName()\n",
    "```"
   ]
  },
  {
   "cell_type": "code",
   "execution_count": 168,
   "metadata": {},
   "outputs": [
    {
     "name": "stdout",
     "output_type": "stream",
     "text": [
      "Homo Sapiens\n"
     ]
    }
   ],
   "source": [
    "tim = Person()\n",
    "print(tim.species)"
   ]
  },
  {
   "cell_type": "markdown",
   "metadata": {},
   "source": [
    "Now, say, we want each person to have a name and age. These could be saved in the object's attributes. Unlike \"species\", these would be different for each person, so they can't just be set in the class-definition, but specifically for each instance. Attributes can be set even when they are not included in the class-definition."
   ]
  },
  {
   "cell_type": "code",
   "execution_count": 169,
   "metadata": {},
   "outputs": [
    {
     "name": "stdout",
     "output_type": "stream",
     "text": [
      "Tim is 15 years old\n"
     ]
    }
   ],
   "source": [
    "tim.first_name = \"Tim\"\n",
    "tim.age = 15\n",
    "print(tim.first_name, \"is\", tim.age, \"years old\")"
   ]
  },
  {
   "cell_type": "markdown",
   "metadata": {},
   "source": [
    "Adding attributes like this is in contrast to the idea that classes should be like \"blueprints\" for their objects. You could have some _Person_-objects with names and ages and some without. To counteract this, the \\_\\_init\\_\\_-method usually defines, which attributes each object of the class should have, and can set them upon instanciation. It is defined like any other function, but - as any method - **always** gets the object itself as the first parameter, conventionally called _self_ (caution: this is passed _implicitly_ when the method is called!):\n",
    "\n",
    "```python\n",
    "class ClassName:\n",
    "    def __init__(self [,additional_parameters]):\n",
    "        pass\n",
    "```"
   ]
  },
  {
   "cell_type": "markdown",
   "metadata": {},
   "source": [
    "Defining name and age when the person-object is created can be done like this:"
   ]
  },
  {
   "cell_type": "code",
   "execution_count": 170,
   "metadata": {},
   "outputs": [
    {
     "name": "stdout",
     "output_type": "stream",
     "text": [
      "Tim is 15 years old\n"
     ]
    }
   ],
   "source": [
    "class Person:\n",
    "    species = \"Homo Sapiens\"\n",
    "    \n",
    "    def __init__(self, first_name, age):\n",
    "        self.first_name = first_name\n",
    "        self.age = age\n",
    "\n",
    "tim = Person(\"Tim\", 15)\n",
    "print(tim.first_name, \"is\", tim.age, \"years old\")"
   ]
  },
  {
   "cell_type": "markdown",
   "metadata": {},
   "source": [
    "Writing \"self.variable_name\" means that the variable is an instance attribute (specific to this concrete object) instead of a class attribute (specific only to the class, i.e. share between all objects of that class). In our example, first_name and age are instance attributes, species is a class attribute."
   ]
  },
  {
   "cell_type": "markdown",
   "metadata": {},
   "source": [
    "Attributes that might not be known at instantiation but are intended to be added later, should be specified in the \\_\\_init\\_\\_, but set to None (or another fitting, empty type). F.ex. let's say every person has hobbies, that will be set later on. We will create an empty list for those and provide a method to add new hobbies. Also, we add a method for each person to introduce themselves."
   ]
  },
  {
   "cell_type": "code",
   "execution_count": 171,
   "metadata": {},
   "outputs": [
    {
     "name": "stdout",
     "output_type": "stream",
     "text": [
      "Hi, my name is Tim, I'm 15 years old and I like to swim and dance.\n"
     ]
    }
   ],
   "source": [
    "class Person:\n",
    "    species = \"Homo Sapiens\"\n",
    "    \n",
    "    def __init__(self, first_name, age):\n",
    "        self.first_name = first_name\n",
    "        self.age = age\n",
    "        self.hobbies = []\n",
    "    \n",
    "    def add_hobby(self, new_hobby):\n",
    "        if new_hobby not in self.hobbies:\n",
    "            self.hobbies.append(new_hobby)\n",
    "            \n",
    "    def introduce(self):\n",
    "        print(\"Hi, my name is {name}, I'm {age} years old and I like to {hobbies}.\".format(\n",
    "               name=self.first_name,\n",
    "               age=self.age,\n",
    "               hobbies=\" and \".join(self.hobbies)))\n",
    "\n",
    "tim = Person(\"Tim\", 15)\n",
    "tim.add_hobby(\"swim\")\n",
    "tim.add_hobby(\"dance\")\n",
    "tim.introduce()"
   ]
  },
  {
   "cell_type": "markdown",
   "metadata": {},
   "source": [
    "Now why do we need to accept \"self\" as the first parameter for each method, but don't pass it when calling them?  \n",
    "Each time you write\n",
    "```python\n",
    "object_name.method_name([,additional_parameters])\n",
    "```\n",
    "what actually happens is:\n",
    "```python\n",
    "ClassName.method_name(object_name [,additional_parameters])\n",
    "```  \n",
    "So, the following two calls do the same:"
   ]
  },
  {
   "cell_type": "code",
   "execution_count": 172,
   "metadata": {},
   "outputs": [
    {
     "name": "stdout",
     "output_type": "stream",
     "text": [
      "Hi, my name is Tim, I'm 15 years old and I like to swim and dance.\n",
      "Hi, my name is Tim, I'm 15 years old and I like to swim and dance.\n"
     ]
    }
   ],
   "source": [
    "tim.introduce()\n",
    "Person.introduce(tim)"
   ]
  },
  {
   "cell_type": "markdown",
   "metadata": {},
   "source": [
    "While the latter notation allows for a better understanding of \"self\", the first one is usually used as it is shorter and more clear."
   ]
  },
  {
   "cell_type": "markdown",
   "metadata": {},
   "source": [
    "## Getters, setters and deleters"
   ]
  },
  {
   "cell_type": "markdown",
   "metadata": {},
   "source": [
    "While other programming languages have the concepts of _private_ and _public_ to determine whether attributes and methods can be accessed from outside the object, in python everything is \"public\". This means, by default, any attribute can be modified from anywhere else in the program without any restrictions. For example, the age could be changed to something nonsensical (i.e. everything but a number). Also, any attributes could be accessed (maybe before they are even specified), possibly causing methods relying on their existence to crash.  \n",
    "If you don't want possible users of your classes to modify certain attributes directly, you should prefix them with an underscore (\"\\_\"). This doesn't actually do anything, but by convention means: \"please don't change me, or something unexpected might happen\". F.ex. say you use a certain data structure for an attribute, but might change it in the future, users should not rely on that variable always having the same structure."
   ]
  },
  {
   "cell_type": "markdown",
   "metadata": {},
   "source": [
    "In our example, let's add the attribtue _address_. We don't want users to modify it directly (f.ex. to keep the possibility of changing the format used for storage). Therefore, the attribute will be prefixed with a \"\\_\". Also, as it is not specified when creating the object (i.e. not passed to the \\_\\_init\\_\\_), we set it to None."
   ]
  },
  {
   "cell_type": "markdown",
   "metadata": {},
   "source": [
    "We want to provide controlled access to \"height\". To do so, the concept of _getters_ and _setters_ is introduced. A getter method could for example issue an error when attributes don't exist (or provide a default), the setter might perform type- or rangechecks before setting the attribute. Related to getters and setters are also _deleter_-methods, which delete the attribute (causing a NameError when trying to access it afterwards), and possibly perform cleanup-actions."
   ]
  },
  {
   "cell_type": "markdown",
   "metadata": {},
   "source": [
    "Like in other languages (f.ex. C++), getters, setters and deleters might be written like this:\n",
    "```python\n",
    "def get_attribute(self):\n",
    "    return self.attribute\n",
    "def set_attribute(self, new_value):\n",
    "    self.attribute = new_value\n",
    "def del_attribute(self):\n",
    "    del self.attribute\n",
    "```"
   ]
  },
  {
   "cell_type": "code",
   "execution_count": 173,
   "metadata": {},
   "outputs": [],
   "source": [
    "class Person:\n",
    "    species = \"Homo Sapiens\"\n",
    "    \n",
    "    def __init__(self, first_name, age):\n",
    "        self.first_name = first_name\n",
    "        self.age = age\n",
    "        self.hobbies = []\n",
    "        self._address = None\n",
    "    \n",
    "    def add_hobby(self, new_hobby):\n",
    "        if new_hobby not in self.hobbies:\n",
    "            self.hobbies.append(new_hobby)\n",
    "            \n",
    "    def introduce(self):\n",
    "        print(\"Hi, my name is {name}, I'm {age} years old and I like to {hobbies}.\".format(\n",
    "               name=self.first_name,\n",
    "               age=self.age,\n",
    "               hobbies=\" and \".join(self.hobbies)))\n",
    "        \n",
    "        \n",
    "    def get_address(self):\n",
    "        if self._address is None:\n",
    "            raise ValueError(\"Address has not been set yet\")\n",
    "        return self._address\n",
    "    \n",
    "    def set_address(self, new_address):\n",
    "        if type(new_address) != str:\n",
    "            raise TypeError(\"Please enter the address as a string\")\n",
    "        self._address = new_address\n",
    "        \n",
    "    def del_address(self):\n",
    "        del self._address"
   ]
  },
  {
   "cell_type": "markdown",
   "metadata": {},
   "source": [
    "Now we can do this:"
   ]
  },
  {
   "cell_type": "code",
   "execution_count": 174,
   "metadata": {},
   "outputs": [
    {
     "name": "stdout",
     "output_type": "stream",
     "text": [
      "Fakestreet 16, Fakecity\n"
     ]
    }
   ],
   "source": [
    "tim = Person(\"Tim\", 15)\n",
    "tim.set_address(\"Fakestreet 16, Fakecity\")\n",
    "print(tim.get_address())"
   ]
  },
  {
   "cell_type": "markdown",
   "metadata": {},
   "source": [
    "This seems a little unpractical. Therefore, _properties_ have been introduced to allow for using the intuitive ways of retrieving, assigning or deleting of variables:\n",
    "```python\n",
    "# Inside class definition\n",
    "attribute = property(get_attribute, set_attribute, del_attribute, \"Some documentation string\")\n",
    "\n",
    "# Outside usage\n",
    "print(object_name.attribute)      # get\n",
    "object_name.attribute = new_value # set\n",
    "del object_name.attribute         # delete\n",
    "```"
   ]
  },
  {
   "cell_type": "code",
   "execution_count": 175,
   "metadata": {},
   "outputs": [
    {
     "name": "stdout",
     "output_type": "stream",
     "text": [
      "Fakestreet 16, Fakecity\n"
     ]
    }
   ],
   "source": [
    "class Person:\n",
    "    species = \"Homo Sapiens\"\n",
    "    \n",
    "    def __init__(self, first_name, age):\n",
    "        self.first_name = first_name\n",
    "        self.age = age\n",
    "        self.hobbies = []\n",
    "        self._address = None\n",
    "    \n",
    "    def add_hobby(self, new_hobby):\n",
    "        if new_hobby not in self.hobbies:\n",
    "            self.hobbies.append(new_hobby)\n",
    "            \n",
    "    def introduce(self):\n",
    "        print(\"Hi, my name is {name}, I'm {age} years old and I like to {hobbies}.\".format(\n",
    "               name=self.first_name,\n",
    "               age=self.age,\n",
    "               hobbies=\" and \".join(self.hobbies)))\n",
    "        \n",
    "        \n",
    "    def get_address(self):\n",
    "        if self._address is None:\n",
    "            raise ValueError(\"Address has not been set yet\")\n",
    "        return self._address\n",
    "    \n",
    "    def set_address(self, new_address):\n",
    "        if type(new_address) != str:\n",
    "            raise TypeError(\"Please enter the address as a string\")\n",
    "        self._address = new_address\n",
    "        \n",
    "    def del_address(self):\n",
    "        del self._address\n",
    "        \n",
    "    address = property(get_address, set_address, del_address, \"This is the persons address\")\n",
    "\n",
    "tim = Person(\"Tim\", 15)\n",
    "tim.address = \"Fakestreet 16, Fakecity\"\n",
    "print(tim.address)"
   ]
  },
  {
   "cell_type": "markdown",
   "metadata": {},
   "source": [
    "Now the user can use \"address\" comfortably, _without_ the \"\\_\", while still having the advantages of getters and setters.  \n",
    "**However, there is still a better way to create this possibility in python!**\n",
    "### This is the preferred way to do getters, setters and deleters:\n",
    "Using _decorators_, getters and setters (and deleters) can be created without the need for extra functions:\n",
    "```python\n",
    "@property\n",
    "def attribute(self):\n",
    "    return self._attribute\n",
    "\n",
    "@attribute.setter\n",
    "def attribute(self, new_value):\n",
    "    self._attribute = new_value\n",
    "  \n",
    "@attribute.deleter\n",
    "def attribute(self):\n",
    "    del self._attribute\n",
    "```"
   ]
  },
  {
   "cell_type": "markdown",
   "metadata": {},
   "source": [
    "As you can see, all three functions have the same name. The line above (starting with the \"@\") defines when they are called."
   ]
  },
  {
   "cell_type": "code",
   "execution_count": 176,
   "metadata": {},
   "outputs": [
    {
     "name": "stdout",
     "output_type": "stream",
     "text": [
      "Fakestreet 16, Fakecity\n"
     ]
    }
   ],
   "source": [
    "class Person:\n",
    "    species = \"Homo Sapiens\"\n",
    "    \n",
    "    def __init__(self, first_name, age):\n",
    "        self.first_name = first_name\n",
    "        self.age = age\n",
    "        self.hobbies = []\n",
    "        self._address = None\n",
    "    \n",
    "    def add_hobby(self, new_hobby):\n",
    "        if new_hobby not in self.hobbies:\n",
    "            self.hobbies.append(new_hobby)\n",
    "            \n",
    "    def introduce(self):\n",
    "        print(\"Hi, my name is {name}, I'm {age} years old and I like to {hobbies}.\".format(\n",
    "               name=self.first_name,\n",
    "               age=self.age,\n",
    "               hobbies=\" and \".join(self.hobbies)))\n",
    "        \n",
    "    @property   # getter\n",
    "    def address(self):\n",
    "        if self._address is None:\n",
    "            raise ValueError(\"Address has not been set yet\")\n",
    "        return self._address\n",
    "    \n",
    "    @address.setter\n",
    "    def address(self, new_address):\n",
    "        if type(new_address) != str:\n",
    "            raise TypeError(\"Please enter the address as a string\")\n",
    "        self._address = new_address\n",
    "        \n",
    "    @address.deleter \n",
    "    def address(self):\n",
    "        del self._address\n",
    "        \n",
    "\n",
    "tim = Person(\"Tim\", 15)\n",
    "tim.address = \"Fakestreet 16, Fakecity\"\n",
    "print(tim.address)"
   ]
  },
  {
   "cell_type": "markdown",
   "metadata": {},
   "source": [
    "You don't have to always define all three functions, but if you want to create a setter or deleter, the getter has to be there!"
   ]
  },
  {
   "cell_type": "markdown",
   "metadata": {},
   "source": [
    "## Inheritance"
   ]
  },
  {
   "cell_type": "markdown",
   "metadata": {},
   "source": [
    "An important feature of classes is inheritance. It enables you to create a specialized version of a class without having to redefine (copy) everything. A derived class _inherits_ every attribute and method from its baseclass, but can overwrite them and add new ones. Deriving a class from another works like this:\n",
    "```python\n",
    "class DerivedClassName(BaseClassName):\n",
    "    # statement 1\n",
    "    # .\n",
    "    # .\n",
    "    # .\n",
    "    # statement N\n",
    "```"
   ]
  },
  {
   "cell_type": "markdown",
   "metadata": {},
   "source": [
    "For our example, we will create a _Student_-class. A student is a person as well, but might have additional attributes, such as the university and field of study. We want these two to be set when the object is created, so the \\_\\_init\\_\\_ has to be changed. We will also make use of the baseclasses' \\_\\_init\\_\\_, to avoid duplicate code. Also, we will change the introduce-method (overwrite it)."
   ]
  },
  {
   "cell_type": "code",
   "execution_count": 177,
   "metadata": {},
   "outputs": [],
   "source": [
    "class Student(Person):\n",
    "    def __init__(self, first_name, age, subject, university):\n",
    "        self.subject = subject\n",
    "        self.university = university\n",
    "        \n",
    "        super().__init__(first_name, age) # this calls the baseclasses constructor with the needed parameters\n",
    "    \n",
    "    def introduce(self):\n",
    "        print(\"Hi, I'm {name} and I'm studying {subject} at {uni}\".format(\n",
    "                 name=self.first_name,\n",
    "                 subject=self.subject,\n",
    "                 uni=self.university) )"
   ]
  },
  {
   "cell_type": "code",
   "execution_count": 178,
   "metadata": {},
   "outputs": [
    {
     "name": "stdout",
     "output_type": "stream",
     "text": [
      "Hi, I'm Mike and I'm studying Biomed at TU Graz\n"
     ]
    }
   ],
   "source": [
    "mike = Student(\"Mike\", 21, \"Biomed\", \"TU Graz\")\n",
    "mike.introduce()"
   ]
  },
  {
   "cell_type": "markdown",
   "metadata": {},
   "source": [
    "### Abstract base classes"
   ]
  },
  {
   "cell_type": "markdown",
   "metadata": {},
   "source": [
    "Sometimes you might not want to create objects form a class, but just derive other classes from it, as they share some attributes. F.ex. you create a \"Reader\"-class that contains read data in a specified form (such as a feature matrix and target vector), but the data could be read from different sources, requiring different methods to actually read that data. The Reader-baseclass would never need to be instantiated (and also shouldn't, as it would have no way of reading data and therefore no use). A class like this is called _abstract_. To create an abstract base class (or ABC), python provides the module _abc_. Every class that should not be instantiated, has to be derived from the _ABC_-class and contain at least one _abstractmethod_ - a method that is there, but only really defined in the derived classes."
   ]
  },
  {
   "cell_type": "code",
   "execution_count": 179,
   "metadata": {},
   "outputs": [],
   "source": [
    "from abc import ABC, abstractmethod\n",
    "\n",
    "class Reader(ABC):\n",
    "    def __init__(self):\n",
    "        self.X = None\n",
    "        self.y = None\n",
    "        \n",
    "    @abstractmethod\n",
    "    def read_data(self):\n",
    "        raise NotImplementedError\n",
    "\n",
    "class TxtReader(Reader):\n",
    "    def __init__(self):\n",
    "        super().__init__()\n",
    "        \n",
    "    def read_data(self, data_path):\n",
    "        print(\"Reading data from\", data_path, \"(not actually)\")"
   ]
  },
  {
   "cell_type": "code",
   "execution_count": 180,
   "metadata": {},
   "outputs": [
    {
     "ename": "TypeError",
     "evalue": "Can't instantiate abstract class Reader with abstract methods read_data",
     "output_type": "error",
     "traceback": [
      "\u001b[1;31m---------------------------------------------------------------------------\u001b[0m",
      "\u001b[1;31mTypeError\u001b[0m                                 Traceback (most recent call last)",
      "\u001b[1;32m<ipython-input-180-6971b9600e6b>\u001b[0m in \u001b[0;36m<module>\u001b[1;34m()\u001b[0m\n\u001b[1;32m----> 1\u001b[1;33m \u001b[0mreader1\u001b[0m \u001b[1;33m=\u001b[0m \u001b[0mReader\u001b[0m\u001b[1;33m(\u001b[0m\u001b[1;33m)\u001b[0m\u001b[1;33m\u001b[0m\u001b[0m\n\u001b[0m",
      "\u001b[1;31mTypeError\u001b[0m: Can't instantiate abstract class Reader with abstract methods read_data"
     ]
    }
   ],
   "source": [
    "reader1 = Reader()"
   ]
  },
  {
   "cell_type": "code",
   "execution_count": null,
   "metadata": {},
   "outputs": [],
   "source": [
    "reader2 = TxtReader()\n",
    "reader2.read_data(\"data_directory\")"
   ]
  },
  {
   "cell_type": "markdown",
   "metadata": {},
   "source": [
    "As long as there is at least one abstract method in a class that's not overwritten, it can't be instantiated."
   ]
  },
  {
   "cell_type": "markdown",
   "metadata": {},
   "source": [
    "## Student task"
   ]
  },
  {
   "cell_type": "markdown",
   "metadata": {},
   "source": [
    "* Write an **abstract** class Vehicle\n",
    " * The constructor should take maximum speed (max_speed) and maximum number of passengers (max_passengers) \n",
    " * Add methods \"board\" and \"leave\" that increase/decrease a \"private\" attribute \"passengers\" (initialized to 0, display an error if the result would be below zero or above the maximum\n",
    " * Define a getter for \"passengers\" and a setter that prevents modification\n",
    " * Define an abstract method \"make_sound\"\n",
    "* Derive a class \"Car\"\n",
    " * The constructor should take the number of doors (num_doors) and model name (model_name) (in addition to the parameters for Vehicle), and call the baseclasses constructor\n",
    "* Derive a class \"Train\"\n",
    " * The constructor should take the number of wagons (num_wagons) (in addition to the parameters for Vehicle), and call the baseclasses constructor\n",
    "* implement the \"make_sound\"-method in both derived classes\n",
    "* instantiate both derived classes"
   ]
  },
  {
   "cell_type": "code",
   "execution_count": null,
   "metadata": {},
   "outputs": [],
   "source": [
    "from abc import ABC, abstractmethod\n",
    "\n",
    "\n",
    "class Vehicle(ABC):\n",
    "    def __init__(self, max_speed, max_passengers):\n",
    "        self.max_speed = max_speed\n",
    "        self.max_passengers = max_passengers\n",
    "        self._passengers = 0\n",
    "    \n",
    "    def board(self, num_passengers):\n",
    "        if num_passengers < 0 or type(num_passengers) != int:\n",
    "            raise ValueError(\"num_passengers has to be a positive integer\")\n",
    "        if  self._passengers + num_passengers > self.max_passengers:\n",
    "            too_many = self._passengers + num_passengers - self.max_passengers\n",
    "            print(\"Vehicle full,\", too_many, \"left outside.\")\n",
    "            return\n",
    "        self._passengers += num_passengers\n",
    "        print(self._passengers, \"passengers now inside.\")\n",
    "            \n",
    "    def leave(self, num_passengers):\n",
    "        if num_passengers < 0 or type(num_passengers) != int:\n",
    "            raise ValueError(\"num_passengers has to be a positive integer\")\n",
    "        if  self._passengers - num_passengers < 0:\n",
    "            print(\"There were only\", self._passengers, \"left, vehicle now empty.\")\n",
    "            return\n",
    "        self._passengers += num_passengers\n",
    "        print(self._passengers, \"passengers now inside.\")\n",
    "        \n",
    "    @property\n",
    "    def passengers(self):\n",
    "        return self._passengers\n",
    "    \n",
    "    @passengers.setter\n",
    "    def passengers(self, new_value):\n",
    "        print(\"You are not allowed ot set the number of passengers like this, use 'board' or 'leave' instead!\")\n",
    "    \n",
    "    @abstractmethod\n",
    "    def make_sound(self):\n",
    "        raise NotImplementedError\n",
    "\n",
    "class Car(Vehicle):\n",
    "    def __init__(self, max_speed, max_passengers, num_doors, model_name):\n",
    "        self.num_doors = num_doors\n",
    "        self.model_name = model_name\n",
    "        super().__init__(max_speed, max_passengers)\n",
    "        \n",
    "    def make_sound(self):\n",
    "        print(\"Vrooooom!\")\n",
    "\n",
    "class Train(Vehicle):\n",
    "    def __init__(self, max_speed, max_passengers, num_wagons):\n",
    "        self.num_wagons = num_wagons\n",
    "        super().__init__(max_speed, max_passengers)\n",
    "        \n",
    "    def make_sound(self):\n",
    "        print(\"Choo-choo\")\n",
    "\n",
    "car1 = Car(100, 5, 4, \"Beetle\")\n",
    "car1.make_sound()\n",
    "\n",
    "train1 = Train(200, 300, 3)\n",
    "train1.make_sound()"
   ]
  },
  {
   "cell_type": "code",
   "execution_count": null,
   "metadata": {},
   "outputs": [],
   "source": []
  }
 ],
 "metadata": {
  "kernelspec": {
   "display_name": "Python 3",
   "language": "python",
   "name": "python3"
  },
  "language_info": {
   "codemirror_mode": {
    "name": "ipython",
    "version": 3
   },
   "file_extension": ".py",
   "mimetype": "text/x-python",
   "name": "python",
   "nbconvert_exporter": "python",
   "pygments_lexer": "ipython3",
   "version": "3.6.4"
  }
 },
 "nbformat": 4,
 "nbformat_minor": 1
}
