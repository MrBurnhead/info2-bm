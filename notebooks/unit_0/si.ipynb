{
 "cells": [
  {
   "cell_type": "code",
   "execution_count": null,
   "metadata": {
    "collapsed": false
   },
   "outputs": [],
   "source": [
    "%matplotlib inline\n",
    "from ipywidgets import *\n",
    "\n",
    "from matplotlib import pyplot as plt"
   ]
  },
  {
   "cell_type": "code",
   "execution_count": null,
   "metadata": {
    "collapsed": false
   },
   "outputs": [],
   "source": [
    "import numpy as np\n",
    "import random"
   ]
  },
  {
   "cell_type": "markdown",
   "metadata": {},
   "source": [
    "## Parameter (could use commandline params for those)"
   ]
  },
  {
   "cell_type": "code",
   "execution_count": null,
   "metadata": {
    "collapsed": true
   },
   "outputs": [],
   "source": [
    "# since we arrange them as a square it would be good if the number is a full square\n",
    "num_people = 10000\n",
    "num_initial_infected = 1\n",
    "infection_probability = 0.5\n",
    "max_iterations = 100\n",
    "neighborhood_span = 2.0\n",
    "\n",
    "#automated parameter\n",
    "grid_size = int(num_people**(1/2))"
   ]
  },
  {
   "cell_type": "markdown",
   "metadata": {},
   "source": [
    "## Komponenten"
   ]
  },
  {
   "cell_type": "code",
   "execution_count": null,
   "metadata": {
    "collapsed": false
   },
   "outputs": [],
   "source": [
    "people = range(num_people)\n",
    "infected = set(random.sample(people, num_initial_infected))\n",
    "states = list()"
   ]
  },
  {
   "cell_type": "code",
   "execution_count": null,
   "metadata": {
    "collapsed": false
   },
   "outputs": [],
   "source": [
    "def find_neighbors(person, grid_size, span):\n",
    "    neighbors = []\n",
    "    person_indices = divmod(person, grid_size)\n",
    "    \n",
    "    for i in range(grid_size**2):\n",
    "        current_indices = divmod(i,grid_size)\n",
    "        #calc distance\n",
    "        \n",
    "        if abs(person_indices[0] - current_indices[0]) > span or abs(person_indices[1] - current_indices[1]) > span:\n",
    "            continue\n",
    "        \n",
    "        distance = ((person_indices[0] - current_indices[0])**2 + (person_indices[1] - current_indices[1])**2)**(1/2)\n",
    "        if distance <= span:\n",
    "            neighbors.append(i)\n",
    "    return neighbors"
   ]
  },
  {
   "cell_type": "code",
   "execution_count": null,
   "metadata": {
    "collapsed": false
   },
   "outputs": [],
   "source": [
    "states.append(frozenset(infected))\n",
    "effective_iterations = max_iterations\n",
    "for iteration_index in range(max_iterations):\n",
    "    if iteration_index%int(max_iterations/10) == 0:\n",
    "        print(iteration_index, max_iterations)\n",
    "    if len(infected) == num_people:\n",
    "        print(\"oh no! everyone is infected!\")\n",
    "        \n",
    "        effective_iterations = iteration_index\n",
    "        break\n",
    "    new_infected = set([])\n",
    "    \n",
    "    # infect people\n",
    "    for infected_person in infected:\n",
    "        neighbors = find_neighbors(infected_person, grid_size, neighborhood_span)\n",
    "\n",
    "        neighbour = random.choice(neighbors)\n",
    "        if random.random() < infection_probability and neighbour not in infected and neighbour not in new_infected:\n",
    "            new_infected.add(neighbour)\n",
    "\n",
    "    #merge the sets\n",
    "    infected |= new_infected\n",
    "    states.append(frozenset(infected))"
   ]
  },
  {
   "cell_type": "markdown",
   "metadata": {},
   "source": [
    "### just the visualisation"
   ]
  },
  {
   "cell_type": "code",
   "execution_count": null,
   "metadata": {
    "collapsed": false
   },
   "outputs": [],
   "source": [
    "def visualize(index):\n",
    "    heatmap_data = np.zeros((grid_size, grid_size))\n",
    "    for infected_person in states[index]:\n",
    "        indices = divmod(infected_person, grid_size)\n",
    "        heatmap_data[indices[0]][indices[1]] = 1\n",
    "        plt.imshow(heatmap_data, cmap='Reds', interpolation='nearest')\n",
    "        plt.xlim(0,grid_size)\n",
    "        plt.ylim(0,grid_size)\n",
    "        plt.title(\"Week \" + str(index) + \": \" + str(len(states[index])) + \" infected\")"
   ]
  },
  {
   "cell_type": "code",
   "execution_count": null,
   "metadata": {
    "collapsed": false
   },
   "outputs": [],
   "source": [
    "interact(visualize, index=(0,max_iterations,1))"
   ]
  },
  {
   "cell_type": "code",
   "execution_count": null,
   "metadata": {
    "collapsed": true
   },
   "outputs": [],
   "source": []
  }
 ],
 "metadata": {
  "kernelspec": {
   "display_name": "Python 3",
   "language": "python",
   "name": "python3"
  },
  "language_info": {
   "codemirror_mode": {
    "name": "ipython",
    "version": 3
   },
   "file_extension": ".py",
   "mimetype": "text/x-python",
   "name": "python",
   "nbconvert_exporter": "python",
   "pygments_lexer": "ipython3",
   "version": "3.6.0"
  },
  "widgets": {
   "state": {
    "52c5052f280c48fa89e9af273a8ecc73": {
     "views": [
      {
       "cell_index": 10
      }
     ]
    }
   },
   "version": "1.2.0"
  }
 },
 "nbformat": 4,
 "nbformat_minor": 2
}
